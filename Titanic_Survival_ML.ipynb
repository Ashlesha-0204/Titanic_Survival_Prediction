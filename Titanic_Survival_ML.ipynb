{
 "cells": [
  {
   "cell_type": "markdown",
   "id": "6f7ed86f",
   "metadata": {},
   "source": [
    "Data Dictionary:\n",
    "\n",
    "PassengerId: Passenger ID\n",
    "\n",
    "Survived: Weather Survived or not: 0 = No, 1 = Yes\n",
    "\n",
    "Pclass: Ticket class: 1 = 1st, 2 = 2nd, 3 = 3rd</br>\n",
    "A proxy for socio-economic status (SES)</br>\n",
    "1st = Upper</br>\n",
    "2nd = Middle</br>\n",
    "3rd = Lower</br>\n",
    "\n",
    "Name: Name of the Passenger\n",
    "\n",
    "Sex: Gender\n",
    "\n",
    "Age: Age in Years (Age is fractional if less than 1. If the age is estimated, is it in the form of xx.5)\n",
    "\n",
    "SibSp: No. of siblings / spouses aboard the Titanic\n",
    "\n",
    "Parch: No. of parents / children aboard the Titanic\n",
    "\n",
    "Ticket: Ticket number\n",
    "\n",
    "Fare: Passenger fare\n",
    "\n",
    "Cabin: Cabin Number\n",
    "\n",
    "Embarked: Port of Embarkation:\tC = Cherbourg, Q = Queenstown, S = Southampton\n"
   ]
  },
  {
   "cell_type": "code",
   "execution_count": 1,
   "id": "ef4d4c4b",
   "metadata": {},
   "outputs": [],
   "source": [
    "import warnings\n",
    "warnings.filterwarnings(\"ignore\")"
   ]
  },
  {
   "cell_type": "code",
   "execution_count": 2,
   "id": "b697fed3",
   "metadata": {},
   "outputs": [],
   "source": [
    "#import necessary libraries\n",
    "\n",
    "import pandas as pd, numpy as np\n",
    "\n",
    "# libraries for data visualization\n",
    "import matplotlib.pyplot as plt\n",
    "import seaborn as sns\n",
    "\n",
    "# ML libraries\n",
    "from sklearn.model_selection import train_test_split\n",
    "from sklearn.preprocessing import StandardScaler\n",
    "from sklearn.linear_model import LogisticRegression\n",
    "from sklearn.feature_selection import RFE\n",
    "from sklearn import metrics\n",
    "from sklearn.metrics import confusion_matrix\n",
    "from sklearn.metrics import accuracy_score\n",
    "from sklearn.metrics import roc_curve, roc_auc_score\n",
    "from sklearn.metrics import precision_score, recall_score\n",
    "from sklearn.metrics import precision_recall_curve\n",
    "from sklearn.metrics import f1_score\n",
    "from sklearn.impute import KNNImputer\n",
    "from sklearn.model_selection import GridSearchCV\n",
    "\n",
    "# for statistical analysis\n",
    "import statsmodels.api as sm\n",
    "from statsmodels.stats.outliers_influence import variance_inflation_factor"
   ]
  },
  {
   "cell_type": "code",
   "execution_count": 3,
   "id": "bf95afe5",
   "metadata": {},
   "outputs": [],
   "source": [
    "# display maximum number of rows and columns\n",
    "\n",
    "pd.set_option('display.max_rows', None)\n",
    "pd.set_option('display.max_columns', None)"
   ]
  },
  {
   "cell_type": "code",
   "execution_count": 4,
   "id": "a4b94b77",
   "metadata": {},
   "outputs": [],
   "source": [
    "# load data\n",
    "data = pd.read_csv('Titanic-Dataset.csv')"
   ]
  },
  {
   "cell_type": "code",
   "execution_count": 5,
   "id": "3c99bf53",
   "metadata": {},
   "outputs": [
    {
     "data": {
      "text/html": [
       "<div>\n",
       "<style scoped>\n",
       "    .dataframe tbody tr th:only-of-type {\n",
       "        vertical-align: middle;\n",
       "    }\n",
       "\n",
       "    .dataframe tbody tr th {\n",
       "        vertical-align: top;\n",
       "    }\n",
       "\n",
       "    .dataframe thead th {\n",
       "        text-align: right;\n",
       "    }\n",
       "</style>\n",
       "<table border=\"1\" class=\"dataframe\">\n",
       "  <thead>\n",
       "    <tr style=\"text-align: right;\">\n",
       "      <th></th>\n",
       "      <th>PassengerId</th>\n",
       "      <th>Survived</th>\n",
       "      <th>Pclass</th>\n",
       "      <th>Name</th>\n",
       "      <th>Sex</th>\n",
       "      <th>Age</th>\n",
       "      <th>SibSp</th>\n",
       "      <th>Parch</th>\n",
       "      <th>Ticket</th>\n",
       "      <th>Fare</th>\n",
       "      <th>Cabin</th>\n",
       "      <th>Embarked</th>\n",
       "    </tr>\n",
       "  </thead>\n",
       "  <tbody>\n",
       "    <tr>\n",
       "      <th>0</th>\n",
       "      <td>1</td>\n",
       "      <td>0</td>\n",
       "      <td>3</td>\n",
       "      <td>Braund, Mr. Owen Harris</td>\n",
       "      <td>male</td>\n",
       "      <td>22.0</td>\n",
       "      <td>1</td>\n",
       "      <td>0</td>\n",
       "      <td>A/5 21171</td>\n",
       "      <td>7.2500</td>\n",
       "      <td>NaN</td>\n",
       "      <td>S</td>\n",
       "    </tr>\n",
       "    <tr>\n",
       "      <th>1</th>\n",
       "      <td>2</td>\n",
       "      <td>1</td>\n",
       "      <td>1</td>\n",
       "      <td>Cumings, Mrs. John Bradley (Florence Briggs Th...</td>\n",
       "      <td>female</td>\n",
       "      <td>38.0</td>\n",
       "      <td>1</td>\n",
       "      <td>0</td>\n",
       "      <td>PC 17599</td>\n",
       "      <td>71.2833</td>\n",
       "      <td>C85</td>\n",
       "      <td>C</td>\n",
       "    </tr>\n",
       "    <tr>\n",
       "      <th>2</th>\n",
       "      <td>3</td>\n",
       "      <td>1</td>\n",
       "      <td>3</td>\n",
       "      <td>Heikkinen, Miss. Laina</td>\n",
       "      <td>female</td>\n",
       "      <td>26.0</td>\n",
       "      <td>0</td>\n",
       "      <td>0</td>\n",
       "      <td>STON/O2. 3101282</td>\n",
       "      <td>7.9250</td>\n",
       "      <td>NaN</td>\n",
       "      <td>S</td>\n",
       "    </tr>\n",
       "    <tr>\n",
       "      <th>3</th>\n",
       "      <td>4</td>\n",
       "      <td>1</td>\n",
       "      <td>1</td>\n",
       "      <td>Futrelle, Mrs. Jacques Heath (Lily May Peel)</td>\n",
       "      <td>female</td>\n",
       "      <td>35.0</td>\n",
       "      <td>1</td>\n",
       "      <td>0</td>\n",
       "      <td>113803</td>\n",
       "      <td>53.1000</td>\n",
       "      <td>C123</td>\n",
       "      <td>S</td>\n",
       "    </tr>\n",
       "    <tr>\n",
       "      <th>4</th>\n",
       "      <td>5</td>\n",
       "      <td>0</td>\n",
       "      <td>3</td>\n",
       "      <td>Allen, Mr. William Henry</td>\n",
       "      <td>male</td>\n",
       "      <td>35.0</td>\n",
       "      <td>0</td>\n",
       "      <td>0</td>\n",
       "      <td>373450</td>\n",
       "      <td>8.0500</td>\n",
       "      <td>NaN</td>\n",
       "      <td>S</td>\n",
       "    </tr>\n",
       "  </tbody>\n",
       "</table>\n",
       "</div>"
      ],
      "text/plain": [
       "   PassengerId  Survived  Pclass  \\\n",
       "0            1         0       3   \n",
       "1            2         1       1   \n",
       "2            3         1       3   \n",
       "3            4         1       1   \n",
       "4            5         0       3   \n",
       "\n",
       "                                                Name     Sex   Age  SibSp  \\\n",
       "0                            Braund, Mr. Owen Harris    male  22.0      1   \n",
       "1  Cumings, Mrs. John Bradley (Florence Briggs Th...  female  38.0      1   \n",
       "2                             Heikkinen, Miss. Laina  female  26.0      0   \n",
       "3       Futrelle, Mrs. Jacques Heath (Lily May Peel)  female  35.0      1   \n",
       "4                           Allen, Mr. William Henry    male  35.0      0   \n",
       "\n",
       "   Parch            Ticket     Fare Cabin Embarked  \n",
       "0      0         A/5 21171   7.2500   NaN        S  \n",
       "1      0          PC 17599  71.2833   C85        C  \n",
       "2      0  STON/O2. 3101282   7.9250   NaN        S  \n",
       "3      0            113803  53.1000  C123        S  \n",
       "4      0            373450   8.0500   NaN        S  "
      ]
     },
     "execution_count": 5,
     "metadata": {},
     "output_type": "execute_result"
    }
   ],
   "source": [
    "data.head()"
   ]
  },
  {
   "cell_type": "code",
   "execution_count": 6,
   "id": "70005018",
   "metadata": {},
   "outputs": [
    {
     "data": {
      "text/plain": [
       "(891, 12)"
      ]
     },
     "execution_count": 6,
     "metadata": {},
     "output_type": "execute_result"
    }
   ],
   "source": [
    "data.shape"
   ]
  },
  {
   "cell_type": "code",
   "execution_count": 7,
   "id": "db0ec5e6",
   "metadata": {},
   "outputs": [
    {
     "name": "stdout",
     "output_type": "stream",
     "text": [
      "<class 'pandas.core.frame.DataFrame'>\n",
      "RangeIndex: 891 entries, 0 to 890\n",
      "Data columns (total 12 columns):\n",
      " #   Column       Non-Null Count  Dtype  \n",
      "---  ------       --------------  -----  \n",
      " 0   PassengerId  891 non-null    int64  \n",
      " 1   Survived     891 non-null    int64  \n",
      " 2   Pclass       891 non-null    int64  \n",
      " 3   Name         891 non-null    object \n",
      " 4   Sex          891 non-null    object \n",
      " 5   Age          714 non-null    float64\n",
      " 6   SibSp        891 non-null    int64  \n",
      " 7   Parch        891 non-null    int64  \n",
      " 8   Ticket       891 non-null    object \n",
      " 9   Fare         891 non-null    float64\n",
      " 10  Cabin        204 non-null    object \n",
      " 11  Embarked     889 non-null    object \n",
      "dtypes: float64(2), int64(5), object(5)\n",
      "memory usage: 83.7+ KB\n"
     ]
    }
   ],
   "source": [
    "# concise summary of the DataFrame's structure\n",
    "data.info()"
   ]
  },
  {
   "cell_type": "markdown",
   "id": "7ecd9b9d",
   "metadata": {},
   "source": [
    "-  Total Entries: 891 passengers.\n",
    "-  Missing Values:\n",
    ">  Age column has 177 missing values (714 non-null entries).</br>\n",
    ">  Cabin column has 687 missing values (204 non-null entries).</br>\n",
    ">  Embarked column has 2 missing values (889 non-null entries).\n",
    "-  Data Types:\n",
    ">  Two float columns: Age, Fare.</br>\n",
    ">  Five integer columns: PassengerId, Survived, Pclass, SibSp, Parch.</br>\n",
    ">  Five object (string) columns: Name, Sex, Ticket, Cabin, Embarked."
   ]
  },
  {
   "cell_type": "code",
   "execution_count": 8,
   "id": "dad5b03f",
   "metadata": {},
   "outputs": [
    {
     "data": {
      "text/html": [
       "<div>\n",
       "<style scoped>\n",
       "    .dataframe tbody tr th:only-of-type {\n",
       "        vertical-align: middle;\n",
       "    }\n",
       "\n",
       "    .dataframe tbody tr th {\n",
       "        vertical-align: top;\n",
       "    }\n",
       "\n",
       "    .dataframe thead th {\n",
       "        text-align: right;\n",
       "    }\n",
       "</style>\n",
       "<table border=\"1\" class=\"dataframe\">\n",
       "  <thead>\n",
       "    <tr style=\"text-align: right;\">\n",
       "      <th></th>\n",
       "      <th>PassengerId</th>\n",
       "      <th>Survived</th>\n",
       "      <th>Pclass</th>\n",
       "      <th>Age</th>\n",
       "      <th>SibSp</th>\n",
       "      <th>Parch</th>\n",
       "      <th>Fare</th>\n",
       "    </tr>\n",
       "  </thead>\n",
       "  <tbody>\n",
       "    <tr>\n",
       "      <th>count</th>\n",
       "      <td>891.000000</td>\n",
       "      <td>891.000000</td>\n",
       "      <td>891.000000</td>\n",
       "      <td>714.000000</td>\n",
       "      <td>891.000000</td>\n",
       "      <td>891.000000</td>\n",
       "      <td>891.000000</td>\n",
       "    </tr>\n",
       "    <tr>\n",
       "      <th>mean</th>\n",
       "      <td>446.000000</td>\n",
       "      <td>0.383838</td>\n",
       "      <td>2.308642</td>\n",
       "      <td>29.699118</td>\n",
       "      <td>0.523008</td>\n",
       "      <td>0.381594</td>\n",
       "      <td>32.204208</td>\n",
       "    </tr>\n",
       "    <tr>\n",
       "      <th>std</th>\n",
       "      <td>257.353842</td>\n",
       "      <td>0.486592</td>\n",
       "      <td>0.836071</td>\n",
       "      <td>14.526497</td>\n",
       "      <td>1.102743</td>\n",
       "      <td>0.806057</td>\n",
       "      <td>49.693429</td>\n",
       "    </tr>\n",
       "    <tr>\n",
       "      <th>min</th>\n",
       "      <td>1.000000</td>\n",
       "      <td>0.000000</td>\n",
       "      <td>1.000000</td>\n",
       "      <td>0.420000</td>\n",
       "      <td>0.000000</td>\n",
       "      <td>0.000000</td>\n",
       "      <td>0.000000</td>\n",
       "    </tr>\n",
       "    <tr>\n",
       "      <th>25%</th>\n",
       "      <td>223.500000</td>\n",
       "      <td>0.000000</td>\n",
       "      <td>2.000000</td>\n",
       "      <td>20.125000</td>\n",
       "      <td>0.000000</td>\n",
       "      <td>0.000000</td>\n",
       "      <td>7.910400</td>\n",
       "    </tr>\n",
       "    <tr>\n",
       "      <th>50%</th>\n",
       "      <td>446.000000</td>\n",
       "      <td>0.000000</td>\n",
       "      <td>3.000000</td>\n",
       "      <td>28.000000</td>\n",
       "      <td>0.000000</td>\n",
       "      <td>0.000000</td>\n",
       "      <td>14.454200</td>\n",
       "    </tr>\n",
       "    <tr>\n",
       "      <th>75%</th>\n",
       "      <td>668.500000</td>\n",
       "      <td>1.000000</td>\n",
       "      <td>3.000000</td>\n",
       "      <td>38.000000</td>\n",
       "      <td>1.000000</td>\n",
       "      <td>0.000000</td>\n",
       "      <td>31.000000</td>\n",
       "    </tr>\n",
       "    <tr>\n",
       "      <th>max</th>\n",
       "      <td>891.000000</td>\n",
       "      <td>1.000000</td>\n",
       "      <td>3.000000</td>\n",
       "      <td>80.000000</td>\n",
       "      <td>8.000000</td>\n",
       "      <td>6.000000</td>\n",
       "      <td>512.329200</td>\n",
       "    </tr>\n",
       "  </tbody>\n",
       "</table>\n",
       "</div>"
      ],
      "text/plain": [
       "       PassengerId    Survived      Pclass         Age       SibSp  \\\n",
       "count   891.000000  891.000000  891.000000  714.000000  891.000000   \n",
       "mean    446.000000    0.383838    2.308642   29.699118    0.523008   \n",
       "std     257.353842    0.486592    0.836071   14.526497    1.102743   \n",
       "min       1.000000    0.000000    1.000000    0.420000    0.000000   \n",
       "25%     223.500000    0.000000    2.000000   20.125000    0.000000   \n",
       "50%     446.000000    0.000000    3.000000   28.000000    0.000000   \n",
       "75%     668.500000    1.000000    3.000000   38.000000    1.000000   \n",
       "max     891.000000    1.000000    3.000000   80.000000    8.000000   \n",
       "\n",
       "            Parch        Fare  \n",
       "count  891.000000  891.000000  \n",
       "mean     0.381594   32.204208  \n",
       "std      0.806057   49.693429  \n",
       "min      0.000000    0.000000  \n",
       "25%      0.000000    7.910400  \n",
       "50%      0.000000   14.454200  \n",
       "75%      0.000000   31.000000  \n",
       "max      6.000000  512.329200  "
      ]
     },
     "execution_count": 8,
     "metadata": {},
     "output_type": "execute_result"
    }
   ],
   "source": [
    "# getting the descriptive statistics of all the numerical columns\n",
    "data.describe()"
   ]
  },
  {
   "cell_type": "code",
   "execution_count": 9,
   "id": "434d29fb",
   "metadata": {},
   "outputs": [
    {
     "data": {
      "text/plain": [
       "0"
      ]
     },
     "execution_count": 9,
     "metadata": {},
     "output_type": "execute_result"
    }
   ],
   "source": [
    "# check if any duplicates in our DataFrame to ensures data quality and integrity\n",
    "data.duplicated().sum()"
   ]
  },
  {
   "cell_type": "markdown",
   "id": "29af4864",
   "metadata": {},
   "source": [
    "## Data Pre-processing"
   ]
  },
  {
   "cell_type": "markdown",
   "id": "06a43392",
   "metadata": {},
   "source": [
    "### Data Cleaning"
   ]
  },
  {
   "cell_type": "code",
   "execution_count": 10,
   "id": "221cfc0d",
   "metadata": {},
   "outputs": [
    {
     "data": {
      "text/html": [
       "<div>\n",
       "<style scoped>\n",
       "    .dataframe tbody tr th:only-of-type {\n",
       "        vertical-align: middle;\n",
       "    }\n",
       "\n",
       "    .dataframe tbody tr th {\n",
       "        vertical-align: top;\n",
       "    }\n",
       "\n",
       "    .dataframe thead th {\n",
       "        text-align: right;\n",
       "    }\n",
       "</style>\n",
       "<table border=\"1\" class=\"dataframe\">\n",
       "  <thead>\n",
       "    <tr style=\"text-align: right;\">\n",
       "      <th></th>\n",
       "      <th>PassengerId</th>\n",
       "      <th>Survived</th>\n",
       "      <th>Pclass</th>\n",
       "      <th>Name</th>\n",
       "      <th>Sex</th>\n",
       "      <th>Age</th>\n",
       "      <th>SibSp</th>\n",
       "      <th>Parch</th>\n",
       "      <th>Ticket</th>\n",
       "      <th>Fare</th>\n",
       "      <th>Cabin</th>\n",
       "      <th>Embarked</th>\n",
       "    </tr>\n",
       "  </thead>\n",
       "  <tbody>\n",
       "    <tr>\n",
       "      <th>0</th>\n",
       "      <td>1</td>\n",
       "      <td>0</td>\n",
       "      <td>3</td>\n",
       "      <td>Braund, Mr. Owen Harris</td>\n",
       "      <td>male</td>\n",
       "      <td>22.0</td>\n",
       "      <td>1</td>\n",
       "      <td>0</td>\n",
       "      <td>A/5 21171</td>\n",
       "      <td>7.2500</td>\n",
       "      <td>NaN</td>\n",
       "      <td>S</td>\n",
       "    </tr>\n",
       "    <tr>\n",
       "      <th>1</th>\n",
       "      <td>2</td>\n",
       "      <td>1</td>\n",
       "      <td>1</td>\n",
       "      <td>Cumings, Mrs. John Bradley (Florence Briggs Th...</td>\n",
       "      <td>female</td>\n",
       "      <td>38.0</td>\n",
       "      <td>1</td>\n",
       "      <td>0</td>\n",
       "      <td>PC 17599</td>\n",
       "      <td>71.2833</td>\n",
       "      <td>C85</td>\n",
       "      <td>C</td>\n",
       "    </tr>\n",
       "    <tr>\n",
       "      <th>2</th>\n",
       "      <td>3</td>\n",
       "      <td>1</td>\n",
       "      <td>3</td>\n",
       "      <td>Heikkinen, Miss. Laina</td>\n",
       "      <td>female</td>\n",
       "      <td>26.0</td>\n",
       "      <td>0</td>\n",
       "      <td>0</td>\n",
       "      <td>STON/O2. 3101282</td>\n",
       "      <td>7.9250</td>\n",
       "      <td>NaN</td>\n",
       "      <td>S</td>\n",
       "    </tr>\n",
       "  </tbody>\n",
       "</table>\n",
       "</div>"
      ],
      "text/plain": [
       "   PassengerId  Survived  Pclass  \\\n",
       "0            1         0       3   \n",
       "1            2         1       1   \n",
       "2            3         1       3   \n",
       "\n",
       "                                                Name     Sex   Age  SibSp  \\\n",
       "0                            Braund, Mr. Owen Harris    male  22.0      1   \n",
       "1  Cumings, Mrs. John Bradley (Florence Briggs Th...  female  38.0      1   \n",
       "2                             Heikkinen, Miss. Laina  female  26.0      0   \n",
       "\n",
       "   Parch            Ticket     Fare Cabin Embarked  \n",
       "0      0         A/5 21171   7.2500   NaN        S  \n",
       "1      0          PC 17599  71.2833   C85        C  \n",
       "2      0  STON/O2. 3101282   7.9250   NaN        S  "
      ]
     },
     "execution_count": 10,
     "metadata": {},
     "output_type": "execute_result"
    }
   ],
   "source": [
    "data.head(3)"
   ]
  },
  {
   "cell_type": "code",
   "execution_count": 11,
   "id": "a51efcc6",
   "metadata": {},
   "outputs": [
    {
     "data": {
      "text/plain": [
       "PassengerId     0.00\n",
       "Survived        0.00\n",
       "Pclass          0.00\n",
       "Name            0.00\n",
       "Sex             0.00\n",
       "Age            19.87\n",
       "SibSp           0.00\n",
       "Parch           0.00\n",
       "Ticket          0.00\n",
       "Fare            0.00\n",
       "Cabin          77.10\n",
       "Embarked        0.22\n",
       "dtype: float64"
      ]
     },
     "execution_count": 11,
     "metadata": {},
     "output_type": "execute_result"
    }
   ],
   "source": [
    "# check missing values\n",
    "round(100*(data.isna().sum()/len(data)),2)"
   ]
  },
  {
   "cell_type": "markdown",
   "id": "d6653655",
   "metadata": {},
   "source": [
    "-  Age column has 177 missing values, which is about 19.9% of the total entries (891).\n",
    "-  Cabin column has a significant amount of missing data, with 687 missing values (about 77.1% of the total entries)."
   ]
  },
  {
   "cell_type": "markdown",
   "id": "e7e120a2",
   "metadata": {},
   "source": [
    "-  We can drop the Ticket and Cabin columns to streamline our model, as these variables are either alphanumeric identifiers, sparsely populated, or provide redundant socio-economic information, which is already represented by Pclass. By removing these variables, we focus the model on features more likely to influence survival."
   ]
  },
  {
   "cell_type": "code",
   "execution_count": 12,
   "id": "6372a1e6",
   "metadata": {},
   "outputs": [],
   "source": [
    "# Dropping irrelevant columns\n",
    "columns_to_drop = ['Ticket','Cabin']\n",
    "\n",
    "data.drop(columns= columns_to_drop, inplace =True)"
   ]
  },
  {
   "cell_type": "code",
   "execution_count": 13,
   "id": "b37ff879",
   "metadata": {},
   "outputs": [
    {
     "data": {
      "text/html": [
       "<div>\n",
       "<style scoped>\n",
       "    .dataframe tbody tr th:only-of-type {\n",
       "        vertical-align: middle;\n",
       "    }\n",
       "\n",
       "    .dataframe tbody tr th {\n",
       "        vertical-align: top;\n",
       "    }\n",
       "\n",
       "    .dataframe thead th {\n",
       "        text-align: right;\n",
       "    }\n",
       "</style>\n",
       "<table border=\"1\" class=\"dataframe\">\n",
       "  <thead>\n",
       "    <tr style=\"text-align: right;\">\n",
       "      <th></th>\n",
       "      <th>PassengerId</th>\n",
       "      <th>Survived</th>\n",
       "      <th>Pclass</th>\n",
       "      <th>Name</th>\n",
       "      <th>Sex</th>\n",
       "      <th>Age</th>\n",
       "      <th>SibSp</th>\n",
       "      <th>Parch</th>\n",
       "      <th>Fare</th>\n",
       "      <th>Embarked</th>\n",
       "    </tr>\n",
       "  </thead>\n",
       "  <tbody>\n",
       "    <tr>\n",
       "      <th>0</th>\n",
       "      <td>1</td>\n",
       "      <td>0</td>\n",
       "      <td>3</td>\n",
       "      <td>Braund, Mr. Owen Harris</td>\n",
       "      <td>male</td>\n",
       "      <td>22.0</td>\n",
       "      <td>1</td>\n",
       "      <td>0</td>\n",
       "      <td>7.2500</td>\n",
       "      <td>S</td>\n",
       "    </tr>\n",
       "    <tr>\n",
       "      <th>1</th>\n",
       "      <td>2</td>\n",
       "      <td>1</td>\n",
       "      <td>1</td>\n",
       "      <td>Cumings, Mrs. John Bradley (Florence Briggs Th...</td>\n",
       "      <td>female</td>\n",
       "      <td>38.0</td>\n",
       "      <td>1</td>\n",
       "      <td>0</td>\n",
       "      <td>71.2833</td>\n",
       "      <td>C</td>\n",
       "    </tr>\n",
       "    <tr>\n",
       "      <th>2</th>\n",
       "      <td>3</td>\n",
       "      <td>1</td>\n",
       "      <td>3</td>\n",
       "      <td>Heikkinen, Miss. Laina</td>\n",
       "      <td>female</td>\n",
       "      <td>26.0</td>\n",
       "      <td>0</td>\n",
       "      <td>0</td>\n",
       "      <td>7.9250</td>\n",
       "      <td>S</td>\n",
       "    </tr>\n",
       "  </tbody>\n",
       "</table>\n",
       "</div>"
      ],
      "text/plain": [
       "   PassengerId  Survived  Pclass  \\\n",
       "0            1         0       3   \n",
       "1            2         1       1   \n",
       "2            3         1       3   \n",
       "\n",
       "                                                Name     Sex   Age  SibSp  \\\n",
       "0                            Braund, Mr. Owen Harris    male  22.0      1   \n",
       "1  Cumings, Mrs. John Bradley (Florence Briggs Th...  female  38.0      1   \n",
       "2                             Heikkinen, Miss. Laina  female  26.0      0   \n",
       "\n",
       "   Parch     Fare Embarked  \n",
       "0      0   7.2500        S  \n",
       "1      0  71.2833        C  \n",
       "2      0   7.9250        S  "
      ]
     },
     "execution_count": 13,
     "metadata": {},
     "output_type": "execute_result"
    }
   ],
   "source": [
    "data.head(3)"
   ]
  },
  {
   "cell_type": "code",
   "execution_count": 14,
   "id": "7d7b7db1",
   "metadata": {},
   "outputs": [],
   "source": [
    "data['Sex'] = data['Sex'].replace({'male': 0, 'female': 1})"
   ]
  },
  {
   "cell_type": "code",
   "execution_count": 15,
   "id": "955840fa",
   "metadata": {},
   "outputs": [],
   "source": [
    "data = data[~data['Embarked'].isna()]"
   ]
  },
  {
   "cell_type": "code",
   "execution_count": 16,
   "id": "b8d85177",
   "metadata": {},
   "outputs": [
    {
     "data": {
      "text/plain": [
       "(889, 10)"
      ]
     },
     "execution_count": 16,
     "metadata": {},
     "output_type": "execute_result"
    }
   ],
   "source": [
    "data.shape"
   ]
  },
  {
   "cell_type": "code",
   "execution_count": 17,
   "id": "67e8d894",
   "metadata": {},
   "outputs": [],
   "source": [
    "# create dummy variable for 'Embarked' variable\n",
    "dummy_var = pd.get_dummies(data['Embarked'], drop_first = True, dtype= 'int')\n",
    "\n",
    "data = pd.concat([data,dummy_var],axis=1)"
   ]
  },
  {
   "cell_type": "code",
   "execution_count": 18,
   "id": "116d8fec",
   "metadata": {},
   "outputs": [],
   "source": [
    "data.drop(columns=['Embarked'], inplace=True)"
   ]
  },
  {
   "cell_type": "code",
   "execution_count": 19,
   "id": "05f42c9c",
   "metadata": {},
   "outputs": [
    {
     "data": {
      "text/html": [
       "<div>\n",
       "<style scoped>\n",
       "    .dataframe tbody tr th:only-of-type {\n",
       "        vertical-align: middle;\n",
       "    }\n",
       "\n",
       "    .dataframe tbody tr th {\n",
       "        vertical-align: top;\n",
       "    }\n",
       "\n",
       "    .dataframe thead th {\n",
       "        text-align: right;\n",
       "    }\n",
       "</style>\n",
       "<table border=\"1\" class=\"dataframe\">\n",
       "  <thead>\n",
       "    <tr style=\"text-align: right;\">\n",
       "      <th></th>\n",
       "      <th>PassengerId</th>\n",
       "      <th>Survived</th>\n",
       "      <th>Pclass</th>\n",
       "      <th>Name</th>\n",
       "      <th>Sex</th>\n",
       "      <th>Age</th>\n",
       "      <th>SibSp</th>\n",
       "      <th>Parch</th>\n",
       "      <th>Fare</th>\n",
       "      <th>Q</th>\n",
       "      <th>S</th>\n",
       "    </tr>\n",
       "  </thead>\n",
       "  <tbody>\n",
       "    <tr>\n",
       "      <th>0</th>\n",
       "      <td>1</td>\n",
       "      <td>0</td>\n",
       "      <td>3</td>\n",
       "      <td>Braund, Mr. Owen Harris</td>\n",
       "      <td>0</td>\n",
       "      <td>22.0</td>\n",
       "      <td>1</td>\n",
       "      <td>0</td>\n",
       "      <td>7.2500</td>\n",
       "      <td>0</td>\n",
       "      <td>1</td>\n",
       "    </tr>\n",
       "    <tr>\n",
       "      <th>1</th>\n",
       "      <td>2</td>\n",
       "      <td>1</td>\n",
       "      <td>1</td>\n",
       "      <td>Cumings, Mrs. John Bradley (Florence Briggs Th...</td>\n",
       "      <td>1</td>\n",
       "      <td>38.0</td>\n",
       "      <td>1</td>\n",
       "      <td>0</td>\n",
       "      <td>71.2833</td>\n",
       "      <td>0</td>\n",
       "      <td>0</td>\n",
       "    </tr>\n",
       "    <tr>\n",
       "      <th>2</th>\n",
       "      <td>3</td>\n",
       "      <td>1</td>\n",
       "      <td>3</td>\n",
       "      <td>Heikkinen, Miss. Laina</td>\n",
       "      <td>1</td>\n",
       "      <td>26.0</td>\n",
       "      <td>0</td>\n",
       "      <td>0</td>\n",
       "      <td>7.9250</td>\n",
       "      <td>0</td>\n",
       "      <td>1</td>\n",
       "    </tr>\n",
       "  </tbody>\n",
       "</table>\n",
       "</div>"
      ],
      "text/plain": [
       "   PassengerId  Survived  Pclass  \\\n",
       "0            1         0       3   \n",
       "1            2         1       1   \n",
       "2            3         1       3   \n",
       "\n",
       "                                                Name  Sex   Age  SibSp  Parch  \\\n",
       "0                            Braund, Mr. Owen Harris    0  22.0      1      0   \n",
       "1  Cumings, Mrs. John Bradley (Florence Briggs Th...    1  38.0      1      0   \n",
       "2                             Heikkinen, Miss. Laina    1  26.0      0      0   \n",
       "\n",
       "      Fare  Q  S  \n",
       "0   7.2500  0  1  \n",
       "1  71.2833  0  0  \n",
       "2   7.9250  0  1  "
      ]
     },
     "execution_count": 19,
     "metadata": {},
     "output_type": "execute_result"
    }
   ],
   "source": [
    "data.head(3)"
   ]
  },
  {
   "cell_type": "code",
   "execution_count": 20,
   "id": "1d3c5776",
   "metadata": {},
   "outputs": [
    {
     "data": {
      "text/plain": [
       "PassengerId      0\n",
       "Survived         0\n",
       "Pclass           0\n",
       "Name             0\n",
       "Sex              0\n",
       "Age            177\n",
       "SibSp            0\n",
       "Parch            0\n",
       "Fare             0\n",
       "Q                0\n",
       "S                0\n",
       "dtype: int64"
      ]
     },
     "execution_count": 20,
     "metadata": {},
     "output_type": "execute_result"
    }
   ],
   "source": [
    "data.isna().sum()"
   ]
  },
  {
   "cell_type": "code",
   "execution_count": 21,
   "id": "35123b22",
   "metadata": {},
   "outputs": [
    {
     "data": {
      "text/html": [
       "<div>\n",
       "<style scoped>\n",
       "    .dataframe tbody tr th:only-of-type {\n",
       "        vertical-align: middle;\n",
       "    }\n",
       "\n",
       "    .dataframe tbody tr th {\n",
       "        vertical-align: top;\n",
       "    }\n",
       "\n",
       "    .dataframe thead th {\n",
       "        text-align: right;\n",
       "    }\n",
       "</style>\n",
       "<table border=\"1\" class=\"dataframe\">\n",
       "  <thead>\n",
       "    <tr style=\"text-align: right;\">\n",
       "      <th></th>\n",
       "      <th>PassengerId</th>\n",
       "      <th>Survived</th>\n",
       "      <th>Pclass</th>\n",
       "      <th>Name</th>\n",
       "      <th>Sex</th>\n",
       "      <th>Age</th>\n",
       "      <th>SibSp</th>\n",
       "      <th>Parch</th>\n",
       "      <th>Fare</th>\n",
       "      <th>Q</th>\n",
       "      <th>S</th>\n",
       "    </tr>\n",
       "  </thead>\n",
       "  <tbody>\n",
       "    <tr>\n",
       "      <th>5</th>\n",
       "      <td>6</td>\n",
       "      <td>0</td>\n",
       "      <td>3</td>\n",
       "      <td>Moran, Mr. James</td>\n",
       "      <td>0</td>\n",
       "      <td>NaN</td>\n",
       "      <td>0</td>\n",
       "      <td>0</td>\n",
       "      <td>8.4583</td>\n",
       "      <td>1</td>\n",
       "      <td>0</td>\n",
       "    </tr>\n",
       "    <tr>\n",
       "      <th>17</th>\n",
       "      <td>18</td>\n",
       "      <td>1</td>\n",
       "      <td>2</td>\n",
       "      <td>Williams, Mr. Charles Eugene</td>\n",
       "      <td>0</td>\n",
       "      <td>NaN</td>\n",
       "      <td>0</td>\n",
       "      <td>0</td>\n",
       "      <td>13.0000</td>\n",
       "      <td>0</td>\n",
       "      <td>1</td>\n",
       "    </tr>\n",
       "    <tr>\n",
       "      <th>19</th>\n",
       "      <td>20</td>\n",
       "      <td>1</td>\n",
       "      <td>3</td>\n",
       "      <td>Masselmani, Mrs. Fatima</td>\n",
       "      <td>1</td>\n",
       "      <td>NaN</td>\n",
       "      <td>0</td>\n",
       "      <td>0</td>\n",
       "      <td>7.2250</td>\n",
       "      <td>0</td>\n",
       "      <td>0</td>\n",
       "    </tr>\n",
       "    <tr>\n",
       "      <th>26</th>\n",
       "      <td>27</td>\n",
       "      <td>0</td>\n",
       "      <td>3</td>\n",
       "      <td>Emir, Mr. Farred Chehab</td>\n",
       "      <td>0</td>\n",
       "      <td>NaN</td>\n",
       "      <td>0</td>\n",
       "      <td>0</td>\n",
       "      <td>7.2250</td>\n",
       "      <td>0</td>\n",
       "      <td>0</td>\n",
       "    </tr>\n",
       "    <tr>\n",
       "      <th>28</th>\n",
       "      <td>29</td>\n",
       "      <td>1</td>\n",
       "      <td>3</td>\n",
       "      <td>O'Dwyer, Miss. Ellen \"Nellie\"</td>\n",
       "      <td>1</td>\n",
       "      <td>NaN</td>\n",
       "      <td>0</td>\n",
       "      <td>0</td>\n",
       "      <td>7.8792</td>\n",
       "      <td>1</td>\n",
       "      <td>0</td>\n",
       "    </tr>\n",
       "  </tbody>\n",
       "</table>\n",
       "</div>"
      ],
      "text/plain": [
       "    PassengerId  Survived  Pclass                           Name  Sex  Age  \\\n",
       "5             6         0       3               Moran, Mr. James    0  NaN   \n",
       "17           18         1       2   Williams, Mr. Charles Eugene    0  NaN   \n",
       "19           20         1       3        Masselmani, Mrs. Fatima    1  NaN   \n",
       "26           27         0       3        Emir, Mr. Farred Chehab    0  NaN   \n",
       "28           29         1       3  O'Dwyer, Miss. Ellen \"Nellie\"    1  NaN   \n",
       "\n",
       "    SibSp  Parch     Fare  Q  S  \n",
       "5       0      0   8.4583  1  0  \n",
       "17      0      0  13.0000  0  1  \n",
       "19      0      0   7.2250  0  0  \n",
       "26      0      0   7.2250  0  0  \n",
       "28      0      0   7.8792  1  0  "
      ]
     },
     "execution_count": 21,
     "metadata": {},
     "output_type": "execute_result"
    }
   ],
   "source": [
    "data[data['Age'].isna()].head()"
   ]
  },
  {
   "cell_type": "code",
   "execution_count": 22,
   "id": "2e2f8603",
   "metadata": {},
   "outputs": [],
   "source": [
    "# handling missing value using KNN method\n",
    "\n",
    "def impute_missing_age(df, features):\n",
    "    \n",
    "    # initialize KNN Imputer\n",
    "    imputer = KNNImputer(n_neighbors=5)\n",
    "\n",
    "    # apply imputer\n",
    "    imputed_values = imputer.fit_transform(df[features])\n",
    "\n",
    "    df_imputed = df.copy()\n",
    "\n",
    "    # update only missing 'Age' values with imputed data\n",
    "    df_imputed.loc[df['Age'].isnull(), 'Age'] = imputed_values[df['Age'].isnull(), 0]\n",
    "\n",
    "    return df_imputed\n",
    "\n",
    "\n",
    "features = ['Age', 'Pclass', 'Sex', 'Fare']\n",
    "data = impute_missing_age(data, features)"
   ]
  },
  {
   "cell_type": "code",
   "execution_count": 23,
   "id": "f9d8eb3b",
   "metadata": {},
   "outputs": [
    {
     "data": {
      "text/html": [
       "<div>\n",
       "<style scoped>\n",
       "    .dataframe tbody tr th:only-of-type {\n",
       "        vertical-align: middle;\n",
       "    }\n",
       "\n",
       "    .dataframe tbody tr th {\n",
       "        vertical-align: top;\n",
       "    }\n",
       "\n",
       "    .dataframe thead th {\n",
       "        text-align: right;\n",
       "    }\n",
       "</style>\n",
       "<table border=\"1\" class=\"dataframe\">\n",
       "  <thead>\n",
       "    <tr style=\"text-align: right;\">\n",
       "      <th></th>\n",
       "      <th>PassengerId</th>\n",
       "      <th>Survived</th>\n",
       "      <th>Pclass</th>\n",
       "      <th>Name</th>\n",
       "      <th>Sex</th>\n",
       "      <th>Age</th>\n",
       "      <th>SibSp</th>\n",
       "      <th>Parch</th>\n",
       "      <th>Fare</th>\n",
       "      <th>Q</th>\n",
       "      <th>S</th>\n",
       "    </tr>\n",
       "  </thead>\n",
       "  <tbody>\n",
       "    <tr>\n",
       "      <th>0</th>\n",
       "      <td>1</td>\n",
       "      <td>0</td>\n",
       "      <td>3</td>\n",
       "      <td>Braund, Mr. Owen Harris</td>\n",
       "      <td>0</td>\n",
       "      <td>22.0</td>\n",
       "      <td>1</td>\n",
       "      <td>0</td>\n",
       "      <td>7.2500</td>\n",
       "      <td>0</td>\n",
       "      <td>1</td>\n",
       "    </tr>\n",
       "    <tr>\n",
       "      <th>1</th>\n",
       "      <td>2</td>\n",
       "      <td>1</td>\n",
       "      <td>1</td>\n",
       "      <td>Cumings, Mrs. John Bradley (Florence Briggs Th...</td>\n",
       "      <td>1</td>\n",
       "      <td>38.0</td>\n",
       "      <td>1</td>\n",
       "      <td>0</td>\n",
       "      <td>71.2833</td>\n",
       "      <td>0</td>\n",
       "      <td>0</td>\n",
       "    </tr>\n",
       "    <tr>\n",
       "      <th>2</th>\n",
       "      <td>3</td>\n",
       "      <td>1</td>\n",
       "      <td>3</td>\n",
       "      <td>Heikkinen, Miss. Laina</td>\n",
       "      <td>1</td>\n",
       "      <td>26.0</td>\n",
       "      <td>0</td>\n",
       "      <td>0</td>\n",
       "      <td>7.9250</td>\n",
       "      <td>0</td>\n",
       "      <td>1</td>\n",
       "    </tr>\n",
       "  </tbody>\n",
       "</table>\n",
       "</div>"
      ],
      "text/plain": [
       "   PassengerId  Survived  Pclass  \\\n",
       "0            1         0       3   \n",
       "1            2         1       1   \n",
       "2            3         1       3   \n",
       "\n",
       "                                                Name  Sex   Age  SibSp  Parch  \\\n",
       "0                            Braund, Mr. Owen Harris    0  22.0      1      0   \n",
       "1  Cumings, Mrs. John Bradley (Florence Briggs Th...    1  38.0      1      0   \n",
       "2                             Heikkinen, Miss. Laina    1  26.0      0      0   \n",
       "\n",
       "      Fare  Q  S  \n",
       "0   7.2500  0  1  \n",
       "1  71.2833  0  0  \n",
       "2   7.9250  0  1  "
      ]
     },
     "execution_count": 23,
     "metadata": {},
     "output_type": "execute_result"
    }
   ],
   "source": [
    "data.head(3)"
   ]
  },
  {
   "cell_type": "code",
   "execution_count": 24,
   "id": "ce22dede",
   "metadata": {},
   "outputs": [
    {
     "data": {
      "text/plain": [
       "(889, 11)"
      ]
     },
     "execution_count": 24,
     "metadata": {},
     "output_type": "execute_result"
    }
   ],
   "source": [
    "data.shape"
   ]
  },
  {
   "cell_type": "code",
   "execution_count": 25,
   "id": "77dc8831",
   "metadata": {},
   "outputs": [
    {
     "data": {
      "text/plain": [
       "PassengerId    0\n",
       "Survived       0\n",
       "Pclass         0\n",
       "Name           0\n",
       "Sex            0\n",
       "Age            0\n",
       "SibSp          0\n",
       "Parch          0\n",
       "Fare           0\n",
       "Q              0\n",
       "S              0\n",
       "dtype: int64"
      ]
     },
     "execution_count": 25,
     "metadata": {},
     "output_type": "execute_result"
    }
   ],
   "source": [
    "data.isna().sum()"
   ]
  },
  {
   "cell_type": "code",
   "execution_count": 26,
   "id": "5f6ba8e1",
   "metadata": {},
   "outputs": [
    {
     "data": {
      "text/plain": [
       "Index(['PassengerId', 'Survived', 'Pclass', 'Name', 'Sex', 'Age', 'SibSp',\n",
       "       'Parch', 'Fare', 'Q', 'S'],\n",
       "      dtype='object')"
      ]
     },
     "execution_count": 26,
     "metadata": {},
     "output_type": "execute_result"
    }
   ],
   "source": [
    "data.columns"
   ]
  },
  {
   "cell_type": "code",
   "execution_count": 27,
   "id": "3261c74c",
   "metadata": {},
   "outputs": [
    {
     "data": {
      "text/html": [
       "<div>\n",
       "<style scoped>\n",
       "    .dataframe tbody tr th:only-of-type {\n",
       "        vertical-align: middle;\n",
       "    }\n",
       "\n",
       "    .dataframe tbody tr th {\n",
       "        vertical-align: top;\n",
       "    }\n",
       "\n",
       "    .dataframe thead th {\n",
       "        text-align: right;\n",
       "    }\n",
       "</style>\n",
       "<table border=\"1\" class=\"dataframe\">\n",
       "  <thead>\n",
       "    <tr style=\"text-align: right;\">\n",
       "      <th></th>\n",
       "      <th>Pclass</th>\n",
       "      <th>Sex</th>\n",
       "      <th>Age</th>\n",
       "      <th>SibSp</th>\n",
       "      <th>Parch</th>\n",
       "      <th>Fare</th>\n",
       "      <th>Q</th>\n",
       "      <th>S</th>\n",
       "    </tr>\n",
       "  </thead>\n",
       "  <tbody>\n",
       "    <tr>\n",
       "      <th>count</th>\n",
       "      <td>889.000000</td>\n",
       "      <td>889.000000</td>\n",
       "      <td>889.000000</td>\n",
       "      <td>889.000000</td>\n",
       "      <td>889.000000</td>\n",
       "      <td>889.000000</td>\n",
       "      <td>889.000000</td>\n",
       "      <td>889.000000</td>\n",
       "    </tr>\n",
       "    <tr>\n",
       "      <th>mean</th>\n",
       "      <td>2.311586</td>\n",
       "      <td>0.350956</td>\n",
       "      <td>29.882009</td>\n",
       "      <td>0.524184</td>\n",
       "      <td>0.382452</td>\n",
       "      <td>32.096681</td>\n",
       "      <td>0.086614</td>\n",
       "      <td>0.724409</td>\n",
       "    </tr>\n",
       "    <tr>\n",
       "      <th>std</th>\n",
       "      <td>0.834700</td>\n",
       "      <td>0.477538</td>\n",
       "      <td>13.429478</td>\n",
       "      <td>1.103705</td>\n",
       "      <td>0.806761</td>\n",
       "      <td>49.697504</td>\n",
       "      <td>0.281427</td>\n",
       "      <td>0.447063</td>\n",
       "    </tr>\n",
       "    <tr>\n",
       "      <th>min</th>\n",
       "      <td>1.000000</td>\n",
       "      <td>0.000000</td>\n",
       "      <td>0.420000</td>\n",
       "      <td>0.000000</td>\n",
       "      <td>0.000000</td>\n",
       "      <td>0.000000</td>\n",
       "      <td>0.000000</td>\n",
       "      <td>0.000000</td>\n",
       "    </tr>\n",
       "    <tr>\n",
       "      <th>25%</th>\n",
       "      <td>2.000000</td>\n",
       "      <td>0.000000</td>\n",
       "      <td>21.584000</td>\n",
       "      <td>0.000000</td>\n",
       "      <td>0.000000</td>\n",
       "      <td>7.895800</td>\n",
       "      <td>0.000000</td>\n",
       "      <td>0.000000</td>\n",
       "    </tr>\n",
       "    <tr>\n",
       "      <th>50%</th>\n",
       "      <td>3.000000</td>\n",
       "      <td>0.000000</td>\n",
       "      <td>29.000000</td>\n",
       "      <td>0.000000</td>\n",
       "      <td>0.000000</td>\n",
       "      <td>14.454200</td>\n",
       "      <td>0.000000</td>\n",
       "      <td>1.000000</td>\n",
       "    </tr>\n",
       "    <tr>\n",
       "      <th>75%</th>\n",
       "      <td>3.000000</td>\n",
       "      <td>1.000000</td>\n",
       "      <td>38.000000</td>\n",
       "      <td>1.000000</td>\n",
       "      <td>0.000000</td>\n",
       "      <td>31.000000</td>\n",
       "      <td>0.000000</td>\n",
       "      <td>1.000000</td>\n",
       "    </tr>\n",
       "    <tr>\n",
       "      <th>90%</th>\n",
       "      <td>3.000000</td>\n",
       "      <td>1.000000</td>\n",
       "      <td>48.000000</td>\n",
       "      <td>1.000000</td>\n",
       "      <td>2.000000</td>\n",
       "      <td>77.287500</td>\n",
       "      <td>0.000000</td>\n",
       "      <td>1.000000</td>\n",
       "    </tr>\n",
       "    <tr>\n",
       "      <th>99%</th>\n",
       "      <td>3.000000</td>\n",
       "      <td>1.000000</td>\n",
       "      <td>65.000000</td>\n",
       "      <td>5.000000</td>\n",
       "      <td>4.000000</td>\n",
       "      <td>249.303304</td>\n",
       "      <td>1.000000</td>\n",
       "      <td>1.000000</td>\n",
       "    </tr>\n",
       "    <tr>\n",
       "      <th>max</th>\n",
       "      <td>3.000000</td>\n",
       "      <td>1.000000</td>\n",
       "      <td>80.000000</td>\n",
       "      <td>8.000000</td>\n",
       "      <td>6.000000</td>\n",
       "      <td>512.329200</td>\n",
       "      <td>1.000000</td>\n",
       "      <td>1.000000</td>\n",
       "    </tr>\n",
       "  </tbody>\n",
       "</table>\n",
       "</div>"
      ],
      "text/plain": [
       "           Pclass         Sex         Age       SibSp       Parch        Fare  \\\n",
       "count  889.000000  889.000000  889.000000  889.000000  889.000000  889.000000   \n",
       "mean     2.311586    0.350956   29.882009    0.524184    0.382452   32.096681   \n",
       "std      0.834700    0.477538   13.429478    1.103705    0.806761   49.697504   \n",
       "min      1.000000    0.000000    0.420000    0.000000    0.000000    0.000000   \n",
       "25%      2.000000    0.000000   21.584000    0.000000    0.000000    7.895800   \n",
       "50%      3.000000    0.000000   29.000000    0.000000    0.000000   14.454200   \n",
       "75%      3.000000    1.000000   38.000000    1.000000    0.000000   31.000000   \n",
       "90%      3.000000    1.000000   48.000000    1.000000    2.000000   77.287500   \n",
       "99%      3.000000    1.000000   65.000000    5.000000    4.000000  249.303304   \n",
       "max      3.000000    1.000000   80.000000    8.000000    6.000000  512.329200   \n",
       "\n",
       "                Q           S  \n",
       "count  889.000000  889.000000  \n",
       "mean     0.086614    0.724409  \n",
       "std      0.281427    0.447063  \n",
       "min      0.000000    0.000000  \n",
       "25%      0.000000    0.000000  \n",
       "50%      0.000000    1.000000  \n",
       "75%      0.000000    1.000000  \n",
       "90%      0.000000    1.000000  \n",
       "99%      1.000000    1.000000  \n",
       "max      1.000000    1.000000  "
      ]
     },
     "execution_count": 27,
     "metadata": {},
     "output_type": "execute_result"
    }
   ],
   "source": [
    "# check for outliers\n",
    "num_var = ['Pclass', 'Sex', 'Age', 'SibSp','Parch', 'Fare', 'Q', 'S']\n",
    "\n",
    "data[num_var].describe(percentiles=[0.25, 0.5, 0.75, 0.90, 0.99])"
   ]
  },
  {
   "cell_type": "code",
   "execution_count": 28,
   "id": "d094ab0c",
   "metadata": {},
   "outputs": [
    {
     "data": {
      "text/html": [
       "<div>\n",
       "<style scoped>\n",
       "    .dataframe tbody tr th:only-of-type {\n",
       "        vertical-align: middle;\n",
       "    }\n",
       "\n",
       "    .dataframe tbody tr th {\n",
       "        vertical-align: top;\n",
       "    }\n",
       "\n",
       "    .dataframe thead th {\n",
       "        text-align: right;\n",
       "    }\n",
       "</style>\n",
       "<table border=\"1\" class=\"dataframe\">\n",
       "  <thead>\n",
       "    <tr style=\"text-align: right;\">\n",
       "      <th></th>\n",
       "      <th>PassengerId</th>\n",
       "      <th>Survived</th>\n",
       "      <th>Pclass</th>\n",
       "      <th>Name</th>\n",
       "      <th>Sex</th>\n",
       "      <th>Age</th>\n",
       "      <th>SibSp</th>\n",
       "      <th>Parch</th>\n",
       "      <th>Fare</th>\n",
       "      <th>Q</th>\n",
       "      <th>S</th>\n",
       "    </tr>\n",
       "  </thead>\n",
       "  <tbody>\n",
       "    <tr>\n",
       "      <th>258</th>\n",
       "      <td>259</td>\n",
       "      <td>1</td>\n",
       "      <td>1</td>\n",
       "      <td>Ward, Miss. Anna</td>\n",
       "      <td>1</td>\n",
       "      <td>35.0</td>\n",
       "      <td>0</td>\n",
       "      <td>0</td>\n",
       "      <td>512.3292</td>\n",
       "      <td>0</td>\n",
       "      <td>0</td>\n",
       "    </tr>\n",
       "    <tr>\n",
       "      <th>679</th>\n",
       "      <td>680</td>\n",
       "      <td>1</td>\n",
       "      <td>1</td>\n",
       "      <td>Cardeza, Mr. Thomas Drake Martinez</td>\n",
       "      <td>0</td>\n",
       "      <td>36.0</td>\n",
       "      <td>0</td>\n",
       "      <td>1</td>\n",
       "      <td>512.3292</td>\n",
       "      <td>0</td>\n",
       "      <td>0</td>\n",
       "    </tr>\n",
       "    <tr>\n",
       "      <th>737</th>\n",
       "      <td>738</td>\n",
       "      <td>1</td>\n",
       "      <td>1</td>\n",
       "      <td>Lesurer, Mr. Gustave J</td>\n",
       "      <td>0</td>\n",
       "      <td>35.0</td>\n",
       "      <td>0</td>\n",
       "      <td>0</td>\n",
       "      <td>512.3292</td>\n",
       "      <td>0</td>\n",
       "      <td>0</td>\n",
       "    </tr>\n",
       "  </tbody>\n",
       "</table>\n",
       "</div>"
      ],
      "text/plain": [
       "     PassengerId  Survived  Pclass                                Name  Sex  \\\n",
       "258          259         1       1                    Ward, Miss. Anna    1   \n",
       "679          680         1       1  Cardeza, Mr. Thomas Drake Martinez    0   \n",
       "737          738         1       1              Lesurer, Mr. Gustave J    0   \n",
       "\n",
       "      Age  SibSp  Parch      Fare  Q  S  \n",
       "258  35.0      0      0  512.3292  0  0  \n",
       "679  36.0      0      1  512.3292  0  0  \n",
       "737  35.0      0      0  512.3292  0  0  "
      ]
     },
     "execution_count": 28,
     "metadata": {},
     "output_type": "execute_result"
    }
   ],
   "source": [
    "data[data['Fare']>300]"
   ]
  },
  {
   "cell_type": "markdown",
   "id": "ab60d8da",
   "metadata": {},
   "source": [
    "-  The highest fare of 512.33 seems valid and reflects the premium fares for first-class passengers on the Titanic.\n",
    "-  The age distribution shows a range from infants to elderly passengers , with most ages clustering around 29 - 38 years.\n",
    "-  Overall, the distribution across variables appears reasonable, and there are no unusual or unexpected outliers that require further attention."
   ]
  },
  {
   "cell_type": "markdown",
   "id": "42249e7a",
   "metadata": {},
   "source": [
    "### EDA"
   ]
  },
  {
   "cell_type": "code",
   "execution_count": 29,
   "id": "acae16d9",
   "metadata": {},
   "outputs": [
    {
     "data": {
      "text/plain": [
       "Survived\n",
       "0    61.754781\n",
       "1    38.245219\n",
       "Name: proportion, dtype: float64"
      ]
     },
     "execution_count": 29,
     "metadata": {},
     "output_type": "execute_result"
    }
   ],
   "source": [
    "# check imbalance percentage\n",
    "data.Survived.value_counts(normalize  = True)  *100"
   ]
  },
  {
   "cell_type": "code",
   "execution_count": 30,
   "id": "6472983c",
   "metadata": {},
   "outputs": [
    {
     "data": {
      "image/png": "[encoded data removed]",
      "text/plain": [
       "<Figure size 1000x250 with 1 Axes>"
      ]
     },
     "metadata": {},
     "output_type": "display_data"
    }
   ],
   "source": [
    "# Visualizing univariate characteristics of the Target variable\n",
    "plt.figure(figsize= [10,2.5])\n",
    "sns.barplot(y = ['Not-Survived','Survived'] ,  x = data[\"Survived\"].value_counts(normalize =True)*100, palette =\"Set2\", alpha =0.8)\n",
    "plt.xlabel('Percentage')\n",
    "plt.title(\"Distribution of the target variable\", fontdict = {\"fontsize\":10})\n",
    "plt.show()"
   ]
  },
  {
   "cell_type": "markdown",
   "id": "4d867af9",
   "metadata": {},
   "source": [
    "-  Approximately 60% of passengers did not survive the Titanic disaster.\n",
    "-  Only around 40% of passengers survived."
   ]
  },
  {
   "cell_type": "code",
   "execution_count": 31,
   "id": "a8e1180e",
   "metadata": {},
   "outputs": [
    {
     "data": {
      "image/png": "[encoded data removed]",
      "text/plain": [
       "<Figure size 1000x300 with 1 Axes>"
      ]
     },
     "metadata": {},
     "output_type": "display_data"
    }
   ],
   "source": [
    "# to check distribution of Age\n",
    "plt.figure(figsize = (10,3))\n",
    "data['Age'].plot(kind='hist',bins=20 , color = \"skyblue\")\n",
    "plt.title('Age Distribution of Passengers',fontdict = {\"fontsize\":10})\n",
    "plt.ylabel('Frequency')\n",
    "plt.show()"
   ]
  },
  {
   "cell_type": "markdown",
   "id": "e06360b9",
   "metadata": {},
   "source": [
    "-  The distribution is right-skewed, meaning there are more younger passengers compared to older ones.\n",
    "-  The majority of passengers are between the ages of 20 and 40.\n",
    "-  There's a peak around the age of 22-32, indicating a significant number of passengers in this age group."
   ]
  },
  {
   "cell_type": "code",
   "execution_count": 32,
   "id": "bbe26949",
   "metadata": {},
   "outputs": [
    {
     "data": {
      "image/png": "[encoded data removed]",
      "text/plain": [
       "<Figure size 1000x400 with 2 Axes>"
      ]
     },
     "metadata": {},
     "output_type": "display_data"
    }
   ],
   "source": [
    "fig, axes = plt.subplots(1, 2, figsize=(10, 4), sharey=True)\n",
    "\n",
    "# Plot histogram for passengers who survived\n",
    "axes[0].hist(data.loc[data['Survived'] == 1, 'Age'], bins=10, color='skyblue', alpha= 0.6, edgecolor='black')\n",
    "axes[0].set_title(\"Age Distribution of Survived Passengers\", fontdict = {\"fontsize\":10})\n",
    "\n",
    "# Plot histogram for passengers who did not survive\n",
    "axes[1].hist(data.loc[data['Survived'] == 0, 'Age'], bins=10, color='red', alpha=0.4, edgecolor='black')\n",
    "axes[1].set_title(\"Age Distribution of Non-Survived Passengers\", fontdict = {\"fontsize\":10})\n",
    "\n",
    "plt.tight_layout()\n",
    "plt.show()"
   ]
  },
  {
   "cell_type": "markdown",
   "id": "e3a7e936",
   "metadata": {},
   "source": [
    "-  Both histograms show a high frequency of passengers aged 20-30, but the number is higher among non-survived passengers.\n",
    "-  The most notable peak in both histograms is around age 20 to 30, the distribution for survivors is slightly more spread out."
   ]
  },
  {
   "cell_type": "code",
   "execution_count": 33,
   "id": "182f54f7",
   "metadata": {},
   "outputs": [
    {
     "data": {
      "image/png": "[encoded data removed]",
      "text/plain": [
       "<Figure size 1000x250 with 1 Axes>"
      ]
     },
     "metadata": {},
     "output_type": "display_data"
    }
   ],
   "source": [
    "plt.figure(figsize= [10,2.5])\n",
    "sns.barplot(y = ['Female','Male'] ,  x = data.loc[data['Survived'] == 1, 'Sex'].value_counts(normalize =True)*100, palette =\"Set3\")\n",
    "plt.title('Survival Distribution by Gender on the Titanic', fontdict = {\"fontsize\":10})\n",
    "plt.show()"
   ]
  },
  {
   "cell_type": "markdown",
   "id": "89cb5382",
   "metadata": {},
   "source": [
    "-  A much higher proportion of female passengers survived compared to male passengers. This suggests that women had a significantly higher chance of survival."
   ]
  },
  {
   "cell_type": "code",
   "execution_count": 34,
   "id": "6f2a521c",
   "metadata": {},
   "outputs": [
    {
     "data": {
      "image/png": "[encoded data removed]",
      "text/plain": [
       "<Figure size 1000x250 with 1 Axes>"
      ]
     },
     "metadata": {},
     "output_type": "display_data"
    }
   ],
   "source": [
    "plt.figure(figsize= [10,2.5])\n",
    "data.loc[data['Survived'] == 1, 'Pclass'].value_counts().sort_index().plot.barh(cmap=\"ocean\", alpha=0.6)\n",
    "plt.title('Survival Distribution by Passenger Class on the Titanic', fontdict = {\"fontsize\":10})\n",
    "plt.show()"
   ]
  },
  {
   "cell_type": "markdown",
   "id": "bf13088c",
   "metadata": {},
   "source": [
    "-  First-class passengers had a higher survival rate, suggesting a better chance of survival for this group.\n",
    "-  Third-class passengers had a lower survival rate, although it's still higher than the second-class survival rate."
   ]
  },
  {
   "cell_type": "code",
   "execution_count": 35,
   "id": "ad90ecf4",
   "metadata": {},
   "outputs": [
    {
     "data": {
      "image/png": "[encoded data removed]",
      "text/plain": [
       "<Figure size 1200x500 with 1 Axes>"
      ]
     },
     "metadata": {},
     "output_type": "display_data"
    }
   ],
   "source": [
    "plt.figure(figsize=(12, 5))\n",
    "\n",
    "sns.boxplot(x='Pclass', y='Fare', hue='Survived', data=data, palette='inferno', showfliers=False)\n",
    "\n",
    "plt.title('Fare Distribution Across Passenger Classes (Survived vs. Not Survived)', fontdict = {\"fontsize\":10})\n",
    "plt.xlabel('Passenger Class')\n",
    "plt.ylabel('Fare')\n",
    "plt.legend(title='Survived', labels=['Not Survived', 'Survived'])\n",
    "\n",
    "plt.show()"
   ]
  },
  {
   "cell_type": "markdown",
   "id": "07f3f336",
   "metadata": {},
   "source": [
    "-  There's a clear relationship between fare and survival.  Passengers who paid higher fares (first-class passengers) had a higher chance of survival.\n",
    "-  For Pclass 2 and 3, the fare distribution overlaps significantly between survivors and non-survivors. This suggests that fare, within these classes, might not be a strong predictor of survival."
   ]
  },
  {
   "cell_type": "code",
   "execution_count": 36,
   "id": "ea1f6a2e",
   "metadata": {},
   "outputs": [
    {
     "data": {
      "text/plain": [
       "Index(['PassengerId', 'Survived', 'Pclass', 'Name', 'Sex', 'Age', 'SibSp',\n",
       "       'Parch', 'Fare', 'Q', 'S'],\n",
       "      dtype='object')"
      ]
     },
     "execution_count": 36,
     "metadata": {},
     "output_type": "execute_result"
    }
   ],
   "source": [
    "data.columns"
   ]
  },
  {
   "cell_type": "code",
   "execution_count": 37,
   "id": "ad835a91",
   "metadata": {},
   "outputs": [
    {
     "data": {
      "image/png": "[encoded data removed]",
      "text/plain": [
       "<Figure size 1200x500 with 2 Axes>"
      ]
     },
     "metadata": {},
     "output_type": "display_data"
    }
   ],
   "source": [
    "# correlation between few of the numerical variables w.r.t target variable\n",
    "num_variables = ['Survived', 'Pclass', 'Sex', 'Age', 'SibSp', 'Parch', 'Fare', 'Q', 'S']\n",
    "\n",
    "plt.figure(figsize=(12, 5))\n",
    "sns.heatmap(data[num_variables].corr(), annot=True, cmap='viridis')\n",
    "plt.title('Correlation Heatmap')\n",
    "plt.tight_layout()\n",
    "plt.show()"
   ]
  },
  {
   "cell_type": "markdown",
   "id": "e71b30e6",
   "metadata": {},
   "source": [
    "-  Sex variable has a strong positive correlation w.r.t Survival, indicates that females were more likely to survive.\n",
    "-  Fare has a moderate positive correlation suggests that higher fares were associated with higher survival rates, possibly due to better cabin locations and earlier access to lifeboats.\n",
    "-  Pclass has a strong negative correlation indicates that lower-class passengers were less likely to survive. \n",
    "-  Age, SibSp, Parch, Embarkation Ports variables have weak or no correlation with survival, suggesting that other factors might have played a more significant role in determining survival outcomes for these variables."
   ]
  },
  {
   "cell_type": "code",
   "execution_count": 38,
   "id": "4cf030fc",
   "metadata": {},
   "outputs": [],
   "source": [
    "# Feature engineering for Age and Fare\n",
    "data['Age'] = pd.cut(data['Age'], bins=[0, 12, 18, 60, 80], labels=['Child', 'Teen', 'Adult', 'Senior'])\n",
    "\n",
    "# create dummy variables\n",
    "data = pd.get_dummies(data, columns=['Age'], drop_first=True, dtype= 'int')"
   ]
  },
  {
   "cell_type": "code",
   "execution_count": 39,
   "id": "6ba8566b",
   "metadata": {},
   "outputs": [],
   "source": [
    "# Binning Fare into categories \n",
    "data['Fare'] = pd.cut(data['Fare'], bins=[5, 55, 105, 155, 205, 555], labels=['Low', 'Medium', 'High', 'Very High', 'Extremely High'])\n",
    "\n",
    "# create dummy variables\n",
    "data = pd.get_dummies(data, columns=['Fare'], drop_first=True, dtype= 'int')"
   ]
  },
  {
   "cell_type": "code",
   "execution_count": 40,
   "id": "53017cc9",
   "metadata": {},
   "outputs": [
    {
     "data": {
      "text/html": [
       "<div>\n",
       "<style scoped>\n",
       "    .dataframe tbody tr th:only-of-type {\n",
       "        vertical-align: middle;\n",
       "    }\n",
       "\n",
       "    .dataframe tbody tr th {\n",
       "        vertical-align: top;\n",
       "    }\n",
       "\n",
       "    .dataframe thead th {\n",
       "        text-align: right;\n",
       "    }\n",
       "</style>\n",
       "<table border=\"1\" class=\"dataframe\">\n",
       "  <thead>\n",
       "    <tr style=\"text-align: right;\">\n",
       "      <th></th>\n",
       "      <th>PassengerId</th>\n",
       "      <th>Survived</th>\n",
       "      <th>Pclass</th>\n",
       "      <th>Name</th>\n",
       "      <th>Sex</th>\n",
       "      <th>SibSp</th>\n",
       "      <th>Parch</th>\n",
       "      <th>Q</th>\n",
       "      <th>S</th>\n",
       "      <th>Age_Teen</th>\n",
       "      <th>Age_Adult</th>\n",
       "      <th>Age_Senior</th>\n",
       "      <th>Fare_Medium</th>\n",
       "      <th>Fare_High</th>\n",
       "      <th>Fare_Very High</th>\n",
       "      <th>Fare_Extremely High</th>\n",
       "    </tr>\n",
       "  </thead>\n",
       "  <tbody>\n",
       "    <tr>\n",
       "      <th>0</th>\n",
       "      <td>1</td>\n",
       "      <td>0</td>\n",
       "      <td>3</td>\n",
       "      <td>Braund, Mr. Owen Harris</td>\n",
       "      <td>0</td>\n",
       "      <td>1</td>\n",
       "      <td>0</td>\n",
       "      <td>0</td>\n",
       "      <td>1</td>\n",
       "      <td>0</td>\n",
       "      <td>1</td>\n",
       "      <td>0</td>\n",
       "      <td>0</td>\n",
       "      <td>0</td>\n",
       "      <td>0</td>\n",
       "      <td>0</td>\n",
       "    </tr>\n",
       "    <tr>\n",
       "      <th>1</th>\n",
       "      <td>2</td>\n",
       "      <td>1</td>\n",
       "      <td>1</td>\n",
       "      <td>Cumings, Mrs. John Bradley (Florence Briggs Th...</td>\n",
       "      <td>1</td>\n",
       "      <td>1</td>\n",
       "      <td>0</td>\n",
       "      <td>0</td>\n",
       "      <td>0</td>\n",
       "      <td>0</td>\n",
       "      <td>1</td>\n",
       "      <td>0</td>\n",
       "      <td>1</td>\n",
       "      <td>0</td>\n",
       "      <td>0</td>\n",
       "      <td>0</td>\n",
       "    </tr>\n",
       "    <tr>\n",
       "      <th>2</th>\n",
       "      <td>3</td>\n",
       "      <td>1</td>\n",
       "      <td>3</td>\n",
       "      <td>Heikkinen, Miss. Laina</td>\n",
       "      <td>1</td>\n",
       "      <td>0</td>\n",
       "      <td>0</td>\n",
       "      <td>0</td>\n",
       "      <td>1</td>\n",
       "      <td>0</td>\n",
       "      <td>1</td>\n",
       "      <td>0</td>\n",
       "      <td>0</td>\n",
       "      <td>0</td>\n",
       "      <td>0</td>\n",
       "      <td>0</td>\n",
       "    </tr>\n",
       "  </tbody>\n",
       "</table>\n",
       "</div>"
      ],
      "text/plain": [
       "   PassengerId  Survived  Pclass  \\\n",
       "0            1         0       3   \n",
       "1            2         1       1   \n",
       "2            3         1       3   \n",
       "\n",
       "                                                Name  Sex  SibSp  Parch  Q  S  \\\n",
       "0                            Braund, Mr. Owen Harris    0      1      0  0  1   \n",
       "1  Cumings, Mrs. John Bradley (Florence Briggs Th...    1      1      0  0  0   \n",
       "2                             Heikkinen, Miss. Laina    1      0      0  0  1   \n",
       "\n",
       "   Age_Teen  Age_Adult  Age_Senior  Fare_Medium  Fare_High  Fare_Very High  \\\n",
       "0         0          1           0            0          0               0   \n",
       "1         0          1           0            1          0               0   \n",
       "2         0          1           0            0          0               0   \n",
       "\n",
       "   Fare_Extremely High  \n",
       "0                    0  \n",
       "1                    0  \n",
       "2                    0  "
      ]
     },
     "execution_count": 40,
     "metadata": {},
     "output_type": "execute_result"
    }
   ],
   "source": [
    "data.head(3)"
   ]
  },
  {
   "cell_type": "code",
   "execution_count": 41,
   "id": "4b5553f6",
   "metadata": {},
   "outputs": [
    {
     "data": {
      "text/html": [
       "<div>\n",
       "<style scoped>\n",
       "    .dataframe tbody tr th:only-of-type {\n",
       "        vertical-align: middle;\n",
       "    }\n",
       "\n",
       "    .dataframe tbody tr th {\n",
       "        vertical-align: top;\n",
       "    }\n",
       "\n",
       "    .dataframe thead th {\n",
       "        text-align: right;\n",
       "    }\n",
       "</style>\n",
       "<table border=\"1\" class=\"dataframe\">\n",
       "  <thead>\n",
       "    <tr style=\"text-align: right;\">\n",
       "      <th></th>\n",
       "      <th>PassengerId</th>\n",
       "      <th>Survived</th>\n",
       "      <th>Pclass</th>\n",
       "      <th>Sex</th>\n",
       "      <th>SibSp</th>\n",
       "      <th>Parch</th>\n",
       "      <th>Q</th>\n",
       "      <th>S</th>\n",
       "      <th>Age_Teen</th>\n",
       "      <th>Age_Adult</th>\n",
       "      <th>Age_Senior</th>\n",
       "      <th>Fare_Medium</th>\n",
       "      <th>Fare_High</th>\n",
       "      <th>Fare_Very High</th>\n",
       "      <th>Fare_Extremely High</th>\n",
       "    </tr>\n",
       "  </thead>\n",
       "  <tbody>\n",
       "    <tr>\n",
       "      <th>count</th>\n",
       "      <td>889.000000</td>\n",
       "      <td>889.000000</td>\n",
       "      <td>889.000000</td>\n",
       "      <td>889.000000</td>\n",
       "      <td>889.000000</td>\n",
       "      <td>889.000000</td>\n",
       "      <td>889.000000</td>\n",
       "      <td>889.000000</td>\n",
       "      <td>889.000000</td>\n",
       "      <td>889.000000</td>\n",
       "      <td>889.000000</td>\n",
       "      <td>889.000000</td>\n",
       "      <td>889.000000</td>\n",
       "      <td>889.000000</td>\n",
       "      <td>889.000000</td>\n",
       "    </tr>\n",
       "    <tr>\n",
       "      <th>mean</th>\n",
       "      <td>446.000000</td>\n",
       "      <td>0.382452</td>\n",
       "      <td>2.311586</td>\n",
       "      <td>0.350956</td>\n",
       "      <td>0.524184</td>\n",
       "      <td>0.382452</td>\n",
       "      <td>0.086614</td>\n",
       "      <td>0.724409</td>\n",
       "      <td>0.087739</td>\n",
       "      <td>0.811024</td>\n",
       "      <td>0.023622</td>\n",
       "      <td>0.094488</td>\n",
       "      <td>0.034871</td>\n",
       "      <td>0.002250</td>\n",
       "      <td>0.022497</td>\n",
       "    </tr>\n",
       "    <tr>\n",
       "      <th>std</th>\n",
       "      <td>256.998173</td>\n",
       "      <td>0.486260</td>\n",
       "      <td>0.834700</td>\n",
       "      <td>0.477538</td>\n",
       "      <td>1.103705</td>\n",
       "      <td>0.806761</td>\n",
       "      <td>0.281427</td>\n",
       "      <td>0.447063</td>\n",
       "      <td>0.283074</td>\n",
       "      <td>0.391710</td>\n",
       "      <td>0.151954</td>\n",
       "      <td>0.292671</td>\n",
       "      <td>0.183555</td>\n",
       "      <td>0.047404</td>\n",
       "      <td>0.148377</td>\n",
       "    </tr>\n",
       "    <tr>\n",
       "      <th>min</th>\n",
       "      <td>1.000000</td>\n",
       "      <td>0.000000</td>\n",
       "      <td>1.000000</td>\n",
       "      <td>0.000000</td>\n",
       "      <td>0.000000</td>\n",
       "      <td>0.000000</td>\n",
       "      <td>0.000000</td>\n",
       "      <td>0.000000</td>\n",
       "      <td>0.000000</td>\n",
       "      <td>0.000000</td>\n",
       "      <td>0.000000</td>\n",
       "      <td>0.000000</td>\n",
       "      <td>0.000000</td>\n",
       "      <td>0.000000</td>\n",
       "      <td>0.000000</td>\n",
       "    </tr>\n",
       "    <tr>\n",
       "      <th>25%</th>\n",
       "      <td>224.000000</td>\n",
       "      <td>0.000000</td>\n",
       "      <td>2.000000</td>\n",
       "      <td>0.000000</td>\n",
       "      <td>0.000000</td>\n",
       "      <td>0.000000</td>\n",
       "      <td>0.000000</td>\n",
       "      <td>0.000000</td>\n",
       "      <td>0.000000</td>\n",
       "      <td>1.000000</td>\n",
       "      <td>0.000000</td>\n",
       "      <td>0.000000</td>\n",
       "      <td>0.000000</td>\n",
       "      <td>0.000000</td>\n",
       "      <td>0.000000</td>\n",
       "    </tr>\n",
       "    <tr>\n",
       "      <th>50%</th>\n",
       "      <td>446.000000</td>\n",
       "      <td>0.000000</td>\n",
       "      <td>3.000000</td>\n",
       "      <td>0.000000</td>\n",
       "      <td>0.000000</td>\n",
       "      <td>0.000000</td>\n",
       "      <td>0.000000</td>\n",
       "      <td>1.000000</td>\n",
       "      <td>0.000000</td>\n",
       "      <td>1.000000</td>\n",
       "      <td>0.000000</td>\n",
       "      <td>0.000000</td>\n",
       "      <td>0.000000</td>\n",
       "      <td>0.000000</td>\n",
       "      <td>0.000000</td>\n",
       "    </tr>\n",
       "    <tr>\n",
       "      <th>75%</th>\n",
       "      <td>668.000000</td>\n",
       "      <td>1.000000</td>\n",
       "      <td>3.000000</td>\n",
       "      <td>1.000000</td>\n",
       "      <td>1.000000</td>\n",
       "      <td>0.000000</td>\n",
       "      <td>0.000000</td>\n",
       "      <td>1.000000</td>\n",
       "      <td>0.000000</td>\n",
       "      <td>1.000000</td>\n",
       "      <td>0.000000</td>\n",
       "      <td>0.000000</td>\n",
       "      <td>0.000000</td>\n",
       "      <td>0.000000</td>\n",
       "      <td>0.000000</td>\n",
       "    </tr>\n",
       "    <tr>\n",
       "      <th>max</th>\n",
       "      <td>891.000000</td>\n",
       "      <td>1.000000</td>\n",
       "      <td>3.000000</td>\n",
       "      <td>1.000000</td>\n",
       "      <td>8.000000</td>\n",
       "      <td>6.000000</td>\n",
       "      <td>1.000000</td>\n",
       "      <td>1.000000</td>\n",
       "      <td>1.000000</td>\n",
       "      <td>1.000000</td>\n",
       "      <td>1.000000</td>\n",
       "      <td>1.000000</td>\n",
       "      <td>1.000000</td>\n",
       "      <td>1.000000</td>\n",
       "      <td>1.000000</td>\n",
       "    </tr>\n",
       "  </tbody>\n",
       "</table>\n",
       "</div>"
      ],
      "text/plain": [
       "       PassengerId    Survived      Pclass         Sex       SibSp  \\\n",
       "count   889.000000  889.000000  889.000000  889.000000  889.000000   \n",
       "mean    446.000000    0.382452    2.311586    0.350956    0.524184   \n",
       "std     256.998173    0.486260    0.834700    0.477538    1.103705   \n",
       "min       1.000000    0.000000    1.000000    0.000000    0.000000   \n",
       "25%     224.000000    0.000000    2.000000    0.000000    0.000000   \n",
       "50%     446.000000    0.000000    3.000000    0.000000    0.000000   \n",
       "75%     668.000000    1.000000    3.000000    1.000000    1.000000   \n",
       "max     891.000000    1.000000    3.000000    1.000000    8.000000   \n",
       "\n",
       "            Parch           Q           S    Age_Teen   Age_Adult  Age_Senior  \\\n",
       "count  889.000000  889.000000  889.000000  889.000000  889.000000  889.000000   \n",
       "mean     0.382452    0.086614    0.724409    0.087739    0.811024    0.023622   \n",
       "std      0.806761    0.281427    0.447063    0.283074    0.391710    0.151954   \n",
       "min      0.000000    0.000000    0.000000    0.000000    0.000000    0.000000   \n",
       "25%      0.000000    0.000000    0.000000    0.000000    1.000000    0.000000   \n",
       "50%      0.000000    0.000000    1.000000    0.000000    1.000000    0.000000   \n",
       "75%      0.000000    0.000000    1.000000    0.000000    1.000000    0.000000   \n",
       "max      6.000000    1.000000    1.000000    1.000000    1.000000    1.000000   \n",
       "\n",
       "       Fare_Medium   Fare_High  Fare_Very High  Fare_Extremely High  \n",
       "count   889.000000  889.000000      889.000000           889.000000  \n",
       "mean      0.094488    0.034871        0.002250             0.022497  \n",
       "std       0.292671    0.183555        0.047404             0.148377  \n",
       "min       0.000000    0.000000        0.000000             0.000000  \n",
       "25%       0.000000    0.000000        0.000000             0.000000  \n",
       "50%       0.000000    0.000000        0.000000             0.000000  \n",
       "75%       0.000000    0.000000        0.000000             0.000000  \n",
       "max       1.000000    1.000000        1.000000             1.000000  "
      ]
     },
     "execution_count": 41,
     "metadata": {},
     "output_type": "execute_result"
    }
   ],
   "source": [
    "data.describe()"
   ]
  },
  {
   "cell_type": "markdown",
   "id": "c945aaf4",
   "metadata": {},
   "source": [
    "### Train_Test split"
   ]
  },
  {
   "cell_type": "code",
   "execution_count": 42,
   "id": "80da97fc",
   "metadata": {},
   "outputs": [
    {
     "data": {
      "text/html": [
       "<div>\n",
       "<style scoped>\n",
       "    .dataframe tbody tr th:only-of-type {\n",
       "        vertical-align: middle;\n",
       "    }\n",
       "\n",
       "    .dataframe tbody tr th {\n",
       "        vertical-align: top;\n",
       "    }\n",
       "\n",
       "    .dataframe thead th {\n",
       "        text-align: right;\n",
       "    }\n",
       "</style>\n",
       "<table border=\"1\" class=\"dataframe\">\n",
       "  <thead>\n",
       "    <tr style=\"text-align: right;\">\n",
       "      <th></th>\n",
       "      <th>Pclass</th>\n",
       "      <th>Sex</th>\n",
       "      <th>SibSp</th>\n",
       "      <th>Parch</th>\n",
       "      <th>Q</th>\n",
       "      <th>S</th>\n",
       "      <th>Age_Teen</th>\n",
       "      <th>Age_Adult</th>\n",
       "      <th>Age_Senior</th>\n",
       "      <th>Fare_Medium</th>\n",
       "      <th>Fare_High</th>\n",
       "      <th>Fare_Very High</th>\n",
       "      <th>Fare_Extremely High</th>\n",
       "    </tr>\n",
       "  </thead>\n",
       "  <tbody>\n",
       "    <tr>\n",
       "      <th>0</th>\n",
       "      <td>3</td>\n",
       "      <td>0</td>\n",
       "      <td>1</td>\n",
       "      <td>0</td>\n",
       "      <td>0</td>\n",
       "      <td>1</td>\n",
       "      <td>0</td>\n",
       "      <td>1</td>\n",
       "      <td>0</td>\n",
       "      <td>0</td>\n",
       "      <td>0</td>\n",
       "      <td>0</td>\n",
       "      <td>0</td>\n",
       "    </tr>\n",
       "    <tr>\n",
       "      <th>1</th>\n",
       "      <td>1</td>\n",
       "      <td>1</td>\n",
       "      <td>1</td>\n",
       "      <td>0</td>\n",
       "      <td>0</td>\n",
       "      <td>0</td>\n",
       "      <td>0</td>\n",
       "      <td>1</td>\n",
       "      <td>0</td>\n",
       "      <td>1</td>\n",
       "      <td>0</td>\n",
       "      <td>0</td>\n",
       "      <td>0</td>\n",
       "    </tr>\n",
       "    <tr>\n",
       "      <th>2</th>\n",
       "      <td>3</td>\n",
       "      <td>1</td>\n",
       "      <td>0</td>\n",
       "      <td>0</td>\n",
       "      <td>0</td>\n",
       "      <td>1</td>\n",
       "      <td>0</td>\n",
       "      <td>1</td>\n",
       "      <td>0</td>\n",
       "      <td>0</td>\n",
       "      <td>0</td>\n",
       "      <td>0</td>\n",
       "      <td>0</td>\n",
       "    </tr>\n",
       "  </tbody>\n",
       "</table>\n",
       "</div>"
      ],
      "text/plain": [
       "   Pclass  Sex  SibSp  Parch  Q  S  Age_Teen  Age_Adult  Age_Senior  \\\n",
       "0       3    0      1      0  0  1         0          1           0   \n",
       "1       1    1      1      0  0  0         0          1           0   \n",
       "2       3    1      0      0  0  1         0          1           0   \n",
       "\n",
       "   Fare_Medium  Fare_High  Fare_Very High  Fare_Extremely High  \n",
       "0            0          0               0                    0  \n",
       "1            1          0               0                    0  \n",
       "2            0          0               0                    0  "
      ]
     },
     "execution_count": 42,
     "metadata": {},
     "output_type": "execute_result"
    }
   ],
   "source": [
    "# remove the non-predicting features and the target variable\n",
    "X = data.drop(['Survived','PassengerId','Name'], axis =1)\n",
    "\n",
    "X.head(3)"
   ]
  },
  {
   "cell_type": "code",
   "execution_count": 43,
   "id": "8c7319df",
   "metadata": {},
   "outputs": [
    {
     "data": {
      "text/plain": [
       "0    0\n",
       "1    1\n",
       "2    1\n",
       "3    1\n",
       "4    0\n",
       "Name: Survived, dtype: int64"
      ]
     },
     "execution_count": 43,
     "metadata": {},
     "output_type": "execute_result"
    }
   ],
   "source": [
    "# storing the target vriable in y\n",
    "y = data['Survived']\n",
    "\n",
    "y.head()"
   ]
  },
  {
   "cell_type": "code",
   "execution_count": 44,
   "id": "247497fe",
   "metadata": {},
   "outputs": [],
   "source": [
    "# Splitting the data into train and test\n",
    "X_train, X_test, y_train, y_test = train_test_split(X,y, train_size = 0.7, test_size = 0.3 , random_state = 100)"
   ]
  },
  {
   "cell_type": "code",
   "execution_count": 45,
   "id": "172a251d",
   "metadata": {},
   "outputs": [
    {
     "name": "stdout",
     "output_type": "stream",
     "text": [
      "(622, 13)\n",
      "(267, 13)\n"
     ]
    }
   ],
   "source": [
    "# check shape and size\n",
    "print(X_train.shape)\n",
    "print(X_test.shape)"
   ]
  },
  {
   "cell_type": "code",
   "execution_count": 46,
   "id": "2a30b03b",
   "metadata": {},
   "outputs": [],
   "source": [
    "# Instantiate the StandardScaler\n",
    "scaler = StandardScaler()\n",
    "\n",
    "# Apply scaler() to all the columns except the binary ones and 'dummy' variables, scaling ensures they contribute equally to the model\n",
    "X_train[['Pclass', 'SibSp', 'Parch' ]] = scaler.fit_transform(X_train[['Pclass', 'SibSp', 'Parch']])"
   ]
  },
  {
   "cell_type": "code",
   "execution_count": 47,
   "id": "bb70903f",
   "metadata": {},
   "outputs": [
    {
     "name": "stdout",
     "output_type": "stream",
     "text": [
      "Fitting 5 folds for each of 15 candidates, totalling 75 fits\n",
      "Best Hyperparameters: {'C': 1, 'max_iter': 100, 'penalty': 'l1', 'solver': 'liblinear'}\n",
      "Best Cross-validation Accuracy: 0.7974322580645161\n"
     ]
    }
   ],
   "source": [
    "# Create a logistic regression model\n",
    "logreg = LogisticRegression()\n",
    "\n",
    "# Set up the hyperparameter grid\n",
    "param_grid = {\n",
    "    'penalty': ['l1'],  \n",
    "    'C': [0.01, 0.1, 1, 10, 100], \n",
    "    'solver': ['liblinear'],  \n",
    "    'max_iter': [100, 200, 300]}\n",
    "\n",
    "grid_search = GridSearchCV(estimator=logreg, param_grid=param_grid, scoring='accuracy', cv=5, n_jobs=-1, verbose=1)\n",
    "\n",
    "# fit GridSearchCV on the training data\n",
    "grid_search.fit(X_train, y_train)\n",
    "\n",
    "# Get the best parameters and best score\n",
    "best_params = grid_search.best_params_\n",
    "best_score = grid_search.best_score_\n",
    "\n",
    "print(f\"Best Hyperparameters: {best_params}\")\n",
    "print(f\"Best Cross-validation Accuracy: {best_score}\")"
   ]
  },
  {
   "cell_type": "code",
   "execution_count": 48,
   "id": "5964e241",
   "metadata": {},
   "outputs": [],
   "source": [
    "# Best hyperparameters obtained from GridSearchCV\n",
    "best_params = grid_search.best_params_\n",
    "\n",
    "# Train the model using the best parameters\n",
    "logreg_best = LogisticRegression(\n",
    "    penalty=best_params['penalty'],\n",
    "    C=best_params['C'],\n",
    "    max_iter=best_params['max_iter'],\n",
    "    solver=best_params['solver']\n",
    ")\n",
    "\n",
    "# instantiate RFE \n",
    "rfe = RFE(estimator=logreg_best, n_features_to_select=10)   \n",
    "rfe = rfe.fit(X_train, y_train)  "
   ]
  },
  {
   "cell_type": "code",
   "execution_count": 49,
   "id": "7fe46102",
   "metadata": {},
   "outputs": [
    {
     "data": {
      "text/plain": [
       "Index(['Pclass', 'Sex', 'SibSp', 'Parch', 'Q', 'S', 'Age_Teen', 'Age_Adult',\n",
       "       'Age_Senior', 'Fare_Medium'],\n",
       "      dtype='object')"
      ]
     },
     "execution_count": 49,
     "metadata": {},
     "output_type": "execute_result"
    }
   ],
   "source": [
    "# display names of columns that are selected\n",
    "col = X_train.columns[rfe.support_]\n",
    "col"
   ]
  },
  {
   "cell_type": "code",
   "execution_count": 50,
   "id": "51c15cb6",
   "metadata": {},
   "outputs": [
    {
     "name": "stdout",
     "output_type": "stream",
     "text": [
      "Optimization terminated successfully.\n",
      "         Current function value: 0.427390\n",
      "         Iterations 7\n",
      "                           Logit Regression Results                           \n",
      "==============================================================================\n",
      "Dep. Variable:               Survived   No. Observations:                  622\n",
      "Model:                          Logit   Df Residuals:                      611\n",
      "Method:                           MLE   Df Model:                           10\n",
      "Date:                Mon, 18 Nov 2024   Pseudo R-squ.:                  0.3538\n",
      "Time:                        22:41:24   Log-Likelihood:                -265.84\n",
      "converged:                       True   LL-Null:                       -411.36\n",
      "Covariance Type:            nonrobust   LLR p-value:                 1.207e-56\n",
      "===============================================================================\n",
      "                  coef    std err          z      P>|z|      [0.025      0.975]\n",
      "-------------------------------------------------------------------------------\n",
      "const           0.7021      0.484      1.451      0.147      -0.246       1.650\n",
      "Pclass         -0.8283      0.123     -6.748      0.000      -1.069      -0.588\n",
      "Sex             2.8918      0.260     11.143      0.000       2.383       3.400\n",
      "SibSp          -0.4641      0.156     -2.977      0.003      -0.770      -0.158\n",
      "Parch          -0.1909      0.125     -1.526      0.127      -0.436       0.054\n",
      "Q              -0.5182      0.514     -1.008      0.314      -1.526       0.490\n",
      "S              -0.2705      0.284     -0.953      0.341      -0.827       0.286\n",
      "Age_Teen       -2.5809      0.623     -4.142      0.000      -3.802      -1.359\n",
      "Age_Adult      -2.4089      0.483     -4.988      0.000      -3.355      -1.462\n",
      "Age_Senior     -4.1711      1.031     -4.047      0.000      -6.191      -2.151\n",
      "Fare_Medium     1.0131      0.415      2.444      0.015       0.201       1.826\n",
      "===============================================================================\n"
     ]
    }
   ],
   "source": [
    "X_train_sm = sm.add_constant(X_train[col])  # Add constant for intercept\n",
    "\n",
    "# Use statsmodels Logit model \n",
    "logm = sm.Logit(y_train, X_train_sm)\n",
    "result = logm.fit()\n",
    "\n",
    "print(result.summary())"
   ]
  },
  {
   "cell_type": "code",
   "execution_count": 51,
   "id": "d5dedf86",
   "metadata": {},
   "outputs": [],
   "source": [
    "# drop column\n",
    "col = col.drop('S')"
   ]
  },
  {
   "cell_type": "code",
   "execution_count": 52,
   "id": "2ac91f1f",
   "metadata": {},
   "outputs": [
    {
     "name": "stdout",
     "output_type": "stream",
     "text": [
      "Optimization terminated successfully.\n",
      "         Current function value: 0.428115\n",
      "         Iterations 7\n",
      "                           Logit Regression Results                           \n",
      "==============================================================================\n",
      "Dep. Variable:               Survived   No. Observations:                  622\n",
      "Model:                          Logit   Df Residuals:                      612\n",
      "Method:                           MLE   Df Model:                            9\n",
      "Date:                Mon, 18 Nov 2024   Pseudo R-squ.:                  0.3527\n",
      "Time:                        22:41:24   Log-Likelihood:                -266.29\n",
      "converged:                       True   LL-Null:                       -411.36\n",
      "Covariance Type:            nonrobust   LLR p-value:                 3.195e-57\n",
      "===============================================================================\n",
      "                  coef    std err          z      P>|z|      [0.025      0.975]\n",
      "-------------------------------------------------------------------------------\n",
      "const           0.5020      0.434      1.158      0.247      -0.348       1.352\n",
      "Pclass         -0.8466      0.121     -6.970      0.000      -1.085      -0.609\n",
      "Sex             2.8939      0.259     11.169      0.000       2.386       3.402\n",
      "SibSp          -0.4831      0.155     -3.114      0.002      -0.787      -0.179\n",
      "Parch          -0.1872      0.125     -1.500      0.134      -0.432       0.057\n",
      "Q              -0.2833      0.452     -0.627      0.531      -1.169       0.603\n",
      "Age_Teen       -2.5408      0.618     -4.114      0.000      -3.751      -1.330\n",
      "Age_Adult      -2.4376      0.481     -5.065      0.000      -3.381      -1.494\n",
      "Age_Senior     -4.2347      1.033     -4.099      0.000      -6.260      -2.210\n",
      "Fare_Medium     1.0576      0.409      2.584      0.010       0.255       1.860\n",
      "===============================================================================\n"
     ]
    }
   ],
   "source": [
    "X_train_sm = sm.add_constant(X_train[col])  # Add constant for intercept\n",
    "\n",
    "# Use statsmodels Logit model \n",
    "logm1 = sm.Logit(y_train, X_train_sm)\n",
    "result = logm1.fit()\n",
    "\n",
    "print(result.summary())"
   ]
  },
  {
   "cell_type": "code",
   "execution_count": 53,
   "id": "97216ff9",
   "metadata": {},
   "outputs": [],
   "source": [
    "# drop column\n",
    "col = col.drop('Q')"
   ]
  },
  {
   "cell_type": "code",
   "execution_count": 54,
   "id": "16542a32",
   "metadata": {},
   "outputs": [
    {
     "name": "stdout",
     "output_type": "stream",
     "text": [
      "Optimization terminated successfully.\n",
      "         Current function value: 0.428436\n",
      "         Iterations 7\n",
      "                           Logit Regression Results                           \n",
      "==============================================================================\n",
      "Dep. Variable:               Survived   No. Observations:                  622\n",
      "Model:                          Logit   Df Residuals:                      613\n",
      "Method:                           MLE   Df Model:                            8\n",
      "Date:                Mon, 18 Nov 2024   Pseudo R-squ.:                  0.3522\n",
      "Time:                        22:41:24   Log-Likelihood:                -266.49\n",
      "converged:                       True   LL-Null:                       -411.36\n",
      "Covariance Type:            nonrobust   LLR p-value:                 6.228e-58\n",
      "===============================================================================\n",
      "                  coef    std err          z      P>|z|      [0.025      0.975]\n",
      "-------------------------------------------------------------------------------\n",
      "const           0.4945      0.432      1.144      0.253      -0.353       1.342\n",
      "Pclass         -0.8638      0.119     -7.283      0.000      -1.096      -0.631\n",
      "Sex             2.8673      0.254     11.275      0.000       2.369       3.366\n",
      "SibSp          -0.4789      0.155     -3.099      0.002      -0.782      -0.176\n",
      "Parch          -0.1802      0.124     -1.458      0.145      -0.422       0.062\n",
      "Age_Teen       -2.5156      0.615     -4.093      0.000      -3.720      -1.311\n",
      "Age_Adult      -2.4444      0.480     -5.093      0.000      -3.385      -1.504\n",
      "Age_Senior     -4.2473      1.031     -4.121      0.000      -6.267      -2.227\n",
      "Fare_Medium     1.0565      0.410      2.576      0.010       0.253       1.860\n",
      "===============================================================================\n"
     ]
    }
   ],
   "source": [
    "X_train_sm = sm.add_constant(X_train[col])  # Add constant for intercept\n",
    "\n",
    "# Use statsmodels Logit model \n",
    "logm2 = sm.Logit(y_train, X_train_sm)\n",
    "result = logm2.fit()\n",
    "\n",
    "print(result.summary())"
   ]
  },
  {
   "cell_type": "code",
   "execution_count": 55,
   "id": "257f9840",
   "metadata": {},
   "outputs": [],
   "source": [
    "# drop column\n",
    "col = col.drop('Parch')"
   ]
  },
  {
   "cell_type": "code",
   "execution_count": 56,
   "id": "ce33b584",
   "metadata": {},
   "outputs": [
    {
     "name": "stdout",
     "output_type": "stream",
     "text": [
      "Optimization terminated successfully.\n",
      "         Current function value: 0.430225\n",
      "         Iterations 7\n",
      "                           Logit Regression Results                           \n",
      "==============================================================================\n",
      "Dep. Variable:               Survived   No. Observations:                  622\n",
      "Model:                          Logit   Df Residuals:                      614\n",
      "Method:                           MLE   Df Model:                            7\n",
      "Date:                Mon, 18 Nov 2024   Pseudo R-squ.:                  0.3495\n",
      "Time:                        22:41:24   Log-Likelihood:                -267.60\n",
      "converged:                       True   LL-Null:                       -411.36\n",
      "Covariance Type:            nonrobust   LLR p-value:                 2.780e-58\n",
      "===============================================================================\n",
      "                  coef    std err          z      P>|z|      [0.025      0.975]\n",
      "-------------------------------------------------------------------------------\n",
      "const           0.3541      0.423      0.838      0.402      -0.474       1.183\n",
      "Pclass         -0.8613      0.119     -7.261      0.000      -1.094      -0.629\n",
      "Sex             2.7685      0.242     11.425      0.000       2.294       3.243\n",
      "SibSp          -0.5286      0.151     -3.499      0.000      -0.825      -0.233\n",
      "Age_Teen       -2.2868      0.591     -3.871      0.000      -3.445      -1.129\n",
      "Age_Adult      -2.2585      0.463     -4.883      0.000      -3.165      -1.352\n",
      "Age_Senior     -4.0706      1.010     -4.030      0.000      -6.050      -2.091\n",
      "Fare_Medium     1.0614      0.411      2.583      0.010       0.256       1.867\n",
      "===============================================================================\n"
     ]
    }
   ],
   "source": [
    "X_train_sm = sm.add_constant(X_train[col])  # Add constant for intercept\n",
    "\n",
    "# Use statsmodels Logit model \n",
    "logm3 = sm.Logit(y_train, X_train_sm)\n",
    "result = logm3.fit()\n",
    "\n",
    "print(result.summary())"
   ]
  },
  {
   "cell_type": "code",
   "execution_count": 57,
   "id": "e6c07caa",
   "metadata": {},
   "outputs": [
    {
     "data": {
      "text/html": [
       "<div>\n",
       "<style scoped>\n",
       "    .dataframe tbody tr th:only-of-type {\n",
       "        vertical-align: middle;\n",
       "    }\n",
       "\n",
       "    .dataframe tbody tr th {\n",
       "        vertical-align: top;\n",
       "    }\n",
       "\n",
       "    .dataframe thead th {\n",
       "        text-align: right;\n",
       "    }\n",
       "</style>\n",
       "<table border=\"1\" class=\"dataframe\">\n",
       "  <thead>\n",
       "    <tr style=\"text-align: right;\">\n",
       "      <th></th>\n",
       "      <th>Features</th>\n",
       "      <th>VIF</th>\n",
       "    </tr>\n",
       "  </thead>\n",
       "  <tbody>\n",
       "    <tr>\n",
       "      <th>4</th>\n",
       "      <td>Age_Adult</td>\n",
       "      <td>1.57</td>\n",
       "    </tr>\n",
       "    <tr>\n",
       "      <th>1</th>\n",
       "      <td>Sex</td>\n",
       "      <td>1.54</td>\n",
       "    </tr>\n",
       "    <tr>\n",
       "      <th>6</th>\n",
       "      <td>Fare_Medium</td>\n",
       "      <td>1.34</td>\n",
       "    </tr>\n",
       "    <tr>\n",
       "      <th>0</th>\n",
       "      <td>Pclass</td>\n",
       "      <td>1.21</td>\n",
       "    </tr>\n",
       "    <tr>\n",
       "      <th>2</th>\n",
       "      <td>SibSp</td>\n",
       "      <td>1.14</td>\n",
       "    </tr>\n",
       "    <tr>\n",
       "      <th>3</th>\n",
       "      <td>Age_Teen</td>\n",
       "      <td>1.12</td>\n",
       "    </tr>\n",
       "    <tr>\n",
       "      <th>5</th>\n",
       "      <td>Age_Senior</td>\n",
       "      <td>1.03</td>\n",
       "    </tr>\n",
       "  </tbody>\n",
       "</table>\n",
       "</div>"
      ],
      "text/plain": [
       "      Features   VIF\n",
       "4    Age_Adult  1.57\n",
       "1          Sex  1.54\n",
       "6  Fare_Medium  1.34\n",
       "0       Pclass  1.21\n",
       "2        SibSp  1.14\n",
       "3     Age_Teen  1.12\n",
       "5   Age_Senior  1.03"
      ]
     },
     "execution_count": 57,
     "metadata": {},
     "output_type": "execute_result"
    }
   ],
   "source": [
    "# calculate VIF for the model\n",
    "vif = pd.DataFrame()\n",
    "vif['Features'] = X_train[col].columns\n",
    "vif['VIF'] = [variance_inflation_factor(X_train[col].values, i) for i in range (X_train[col].shape[1])]  \n",
    "                                                                               \n",
    "vif['VIF'] = round(vif['VIF'],2)\n",
    "vif = vif.sort_values(by='VIF', ascending = False)\n",
    "vif"
   ]
  },
  {
   "cell_type": "code",
   "execution_count": 58,
   "id": "1521ad3c",
   "metadata": {},
   "outputs": [],
   "source": [
    "y_train_pred = result.predict(X_train_sm)"
   ]
  },
  {
   "cell_type": "code",
   "execution_count": 59,
   "id": "a1dda141",
   "metadata": {},
   "outputs": [
    {
     "data": {
      "text/plain": [
       "86     0.052947\n",
       "889    0.417184\n",
       "162    0.084496\n",
       "760    0.084496\n",
       "409    0.262494\n",
       "867    0.417184\n",
       "705    0.204475\n",
       "59     0.076634\n",
       "827    0.710932\n",
       "42     0.084496\n",
       "dtype: float64"
      ]
     },
     "execution_count": 59,
     "metadata": {},
     "output_type": "execute_result"
    }
   ],
   "source": [
    "y_train_pred[:10]"
   ]
  },
  {
   "cell_type": "code",
   "execution_count": 60,
   "id": "088df5b6",
   "metadata": {},
   "outputs": [
    {
     "data": {
      "text/plain": [
       "array([0.05294738, 0.41718388, 0.08449632, 0.08449632, 0.26249444,\n",
       "       0.41718388, 0.20447517, 0.07663418, 0.71093215, 0.08449632])"
      ]
     },
     "execution_count": 60,
     "metadata": {},
     "output_type": "execute_result"
    }
   ],
   "source": [
    "# reshape\n",
    "y_train_pred = y_train_pred.values.reshape(-1) # convert numpy array to 1D array\n",
    "y_train_pred[:10]"
   ]
  },
  {
   "cell_type": "code",
   "execution_count": 61,
   "id": "7b5fbbb3",
   "metadata": {},
   "outputs": [],
   "source": [
    "# create DataFrame\n",
    "y_train_pred_final = pd.DataFrame({'Survived': y_train.values, 'Survived_probability': y_train_pred})"
   ]
  },
  {
   "cell_type": "code",
   "execution_count": 62,
   "id": "fffc0d2f",
   "metadata": {},
   "outputs": [],
   "source": [
    "# add new column to the dataframe and show index number\n",
    "y_train_pred_final['Index_ID'] = y_train.index"
   ]
  },
  {
   "cell_type": "code",
   "execution_count": 63,
   "id": "b6659097",
   "metadata": {},
   "outputs": [
    {
     "data": {
      "text/html": [
       "<div>\n",
       "<style scoped>\n",
       "    .dataframe tbody tr th:only-of-type {\n",
       "        vertical-align: middle;\n",
       "    }\n",
       "\n",
       "    .dataframe tbody tr th {\n",
       "        vertical-align: top;\n",
       "    }\n",
       "\n",
       "    .dataframe thead th {\n",
       "        text-align: right;\n",
       "    }\n",
       "</style>\n",
       "<table border=\"1\" class=\"dataframe\">\n",
       "  <thead>\n",
       "    <tr style=\"text-align: right;\">\n",
       "      <th></th>\n",
       "      <th>Survived</th>\n",
       "      <th>Survived_probability</th>\n",
       "      <th>Index_ID</th>\n",
       "    </tr>\n",
       "  </thead>\n",
       "  <tbody>\n",
       "    <tr>\n",
       "      <th>0</th>\n",
       "      <td>0</td>\n",
       "      <td>0.052947</td>\n",
       "      <td>86</td>\n",
       "    </tr>\n",
       "    <tr>\n",
       "      <th>1</th>\n",
       "      <td>1</td>\n",
       "      <td>0.417184</td>\n",
       "      <td>889</td>\n",
       "    </tr>\n",
       "    <tr>\n",
       "      <th>2</th>\n",
       "      <td>0</td>\n",
       "      <td>0.084496</td>\n",
       "      <td>162</td>\n",
       "    </tr>\n",
       "    <tr>\n",
       "      <th>3</th>\n",
       "      <td>0</td>\n",
       "      <td>0.084496</td>\n",
       "      <td>760</td>\n",
       "    </tr>\n",
       "    <tr>\n",
       "      <th>4</th>\n",
       "      <td>0</td>\n",
       "      <td>0.262494</td>\n",
       "      <td>409</td>\n",
       "    </tr>\n",
       "    <tr>\n",
       "      <th>5</th>\n",
       "      <td>0</td>\n",
       "      <td>0.417184</td>\n",
       "      <td>867</td>\n",
       "    </tr>\n",
       "    <tr>\n",
       "      <th>6</th>\n",
       "      <td>0</td>\n",
       "      <td>0.204475</td>\n",
       "      <td>705</td>\n",
       "    </tr>\n",
       "    <tr>\n",
       "      <th>7</th>\n",
       "      <td>0</td>\n",
       "      <td>0.076634</td>\n",
       "      <td>59</td>\n",
       "    </tr>\n",
       "    <tr>\n",
       "      <th>8</th>\n",
       "      <td>1</td>\n",
       "      <td>0.710932</td>\n",
       "      <td>827</td>\n",
       "    </tr>\n",
       "    <tr>\n",
       "      <th>9</th>\n",
       "      <td>0</td>\n",
       "      <td>0.084496</td>\n",
       "      <td>42</td>\n",
       "    </tr>\n",
       "  </tbody>\n",
       "</table>\n",
       "</div>"
      ],
      "text/plain": [
       "   Survived  Survived_probability  Index_ID\n",
       "0         0              0.052947        86\n",
       "1         1              0.417184       889\n",
       "2         0              0.084496       162\n",
       "3         0              0.084496       760\n",
       "4         0              0.262494       409\n",
       "5         0              0.417184       867\n",
       "6         0              0.204475       705\n",
       "7         0              0.076634        59\n",
       "8         1              0.710932       827\n",
       "9         0              0.084496        42"
      ]
     },
     "execution_count": 63,
     "metadata": {},
     "output_type": "execute_result"
    }
   ],
   "source": [
    "y_train_pred_final.head(10)"
   ]
  },
  {
   "cell_type": "code",
   "execution_count": 64,
   "id": "a2485409",
   "metadata": {},
   "outputs": [],
   "source": [
    "# create empty Dataframe for columns cutoff values, accuracy, sensitivity and specificity\n",
    "cutoff_df = pd.DataFrame(columns = ['Prob_cutoffs', 'accuracy', 'sensitivity', 'specificity'])"
   ]
  },
  {
   "cell_type": "code",
   "execution_count": 65,
   "id": "15bac8b0",
   "metadata": {},
   "outputs": [
    {
     "name": "stdout",
     "output_type": "stream",
     "text": [
      "   Prob_cutoffs  accuracy  sensitivity  specificity\n",
      "0           0.0  0.374598     1.000000     0.000000\n",
      "1           0.1  0.660772     0.905579     0.514139\n",
      "2           0.2  0.717042     0.892704     0.611825\n",
      "3           0.3  0.786174     0.858369     0.742931\n",
      "4           0.4  0.784566     0.824034     0.760925\n",
      "5           0.5  0.805466     0.686695     0.876607\n",
      "6           0.6  0.805466     0.549356     0.958869\n",
      "7           0.7  0.805466     0.523605     0.974293\n",
      "8           0.8  0.774920     0.424893     0.984576\n",
      "9           0.9  0.710611     0.240343     0.992288\n"
     ]
    }
   ],
   "source": [
    "# List of cutoff values\n",
    "num = [0.0, 0.1, 0.2, 0.3, 0.4, 0.5, 0.6, 0.7, 0.8, 0.9]\n",
    "\n",
    "for i in num:\n",
    "    # Create binary predictions temporarily for the current cutoff\n",
    "    temp_pred = (y_train_pred_final['Survived_probability'] >= i).astype(int)\n",
    "\n",
    "    # Calculate the confusion matrix\n",
    "    cm_1 = metrics.confusion_matrix(y_train_pred_final['Survived'], temp_pred)\n",
    "\n",
    "    # Calculate metrics\n",
    "    total_1 = sum(sum(cm_1))  # Total number of instances\n",
    "    accuracy = (cm_1[0, 0] + cm_1[1, 1]) / total_1\n",
    "    sensitivity = cm_1[1, 1] / (cm_1[1, 0] + cm_1[1, 1]) if (cm_1[1, 0] + cm_1[1, 1]) != 0 else 0\n",
    "    specificity = cm_1[0, 0] / (cm_1[0, 0] + cm_1[0, 1]) if (cm_1[0, 0] + cm_1[0, 1]) != 0 else 0\n",
    "\n",
    "    # Add the results to the DataFrame\n",
    "    cutoff_df.loc[len(cutoff_df)] = [i, accuracy, sensitivity, specificity]\n",
    "\n",
    "# Display the metrics for all cutoffs\n",
    "print(cutoff_df)"
   ]
  },
  {
   "cell_type": "code",
   "execution_count": 66,
   "id": "14f73c8b",
   "metadata": {},
   "outputs": [
    {
     "data": {
      "text/html": [
       "<div>\n",
       "<style scoped>\n",
       "    .dataframe tbody tr th:only-of-type {\n",
       "        vertical-align: middle;\n",
       "    }\n",
       "\n",
       "    .dataframe tbody tr th {\n",
       "        vertical-align: top;\n",
       "    }\n",
       "\n",
       "    .dataframe thead th {\n",
       "        text-align: right;\n",
       "    }\n",
       "</style>\n",
       "<table border=\"1\" class=\"dataframe\">\n",
       "  <thead>\n",
       "    <tr style=\"text-align: right;\">\n",
       "      <th></th>\n",
       "      <th>Survived</th>\n",
       "      <th>Survived_probability</th>\n",
       "      <th>Index_ID</th>\n",
       "      <th>Survival_pred</th>\n",
       "    </tr>\n",
       "  </thead>\n",
       "  <tbody>\n",
       "    <tr>\n",
       "      <th>0</th>\n",
       "      <td>0</td>\n",
       "      <td>0.052947</td>\n",
       "      <td>86</td>\n",
       "      <td>0</td>\n",
       "    </tr>\n",
       "    <tr>\n",
       "      <th>1</th>\n",
       "      <td>1</td>\n",
       "      <td>0.417184</td>\n",
       "      <td>889</td>\n",
       "      <td>0</td>\n",
       "    </tr>\n",
       "    <tr>\n",
       "      <th>2</th>\n",
       "      <td>0</td>\n",
       "      <td>0.084496</td>\n",
       "      <td>162</td>\n",
       "      <td>0</td>\n",
       "    </tr>\n",
       "    <tr>\n",
       "      <th>3</th>\n",
       "      <td>0</td>\n",
       "      <td>0.084496</td>\n",
       "      <td>760</td>\n",
       "      <td>0</td>\n",
       "    </tr>\n",
       "    <tr>\n",
       "      <th>4</th>\n",
       "      <td>0</td>\n",
       "      <td>0.262494</td>\n",
       "      <td>409</td>\n",
       "      <td>0</td>\n",
       "    </tr>\n",
       "  </tbody>\n",
       "</table>\n",
       "</div>"
      ],
      "text/plain": [
       "   Survived  Survived_probability  Index_ID  Survival_pred\n",
       "0         0              0.052947        86              0\n",
       "1         1              0.417184       889              0\n",
       "2         0              0.084496       162              0\n",
       "3         0              0.084496       760              0\n",
       "4         0              0.262494       409              0"
      ]
     },
     "execution_count": 66,
     "metadata": {},
     "output_type": "execute_result"
    }
   ],
   "source": [
    "# create a new column and put a randomt threshold value to classify\n",
    "y_train_pred_final['Survival_pred'] = y_train_pred_final['Survived_probability'].map(lambda x: 1 if x>0.45 else 0)\n",
    "y_train_pred_final.head()"
   ]
  },
  {
   "cell_type": "code",
   "execution_count": 67,
   "id": "16698314",
   "metadata": {},
   "outputs": [
    {
     "name": "stdout",
     "output_type": "stream",
     "text": [
      "[[327  62]\n",
      " [ 60 173]]\n"
     ]
    }
   ],
   "source": [
    "confusion = metrics.confusion_matrix(y_train_pred_final['Survived'], y_train_pred_final['Survival_pred'])\n",
    "print(confusion)"
   ]
  },
  {
   "cell_type": "code",
   "execution_count": 68,
   "id": "2ef315dd",
   "metadata": {},
   "outputs": [
    {
     "name": "stdout",
     "output_type": "stream",
     "text": [
      "0.8038585209003215\n"
     ]
    }
   ],
   "source": [
    "print(metrics.accuracy_score(y_train_pred_final['Survived'], y_train_pred_final['Survival_pred']))"
   ]
  },
  {
   "cell_type": "code",
   "execution_count": 69,
   "id": "399c78de",
   "metadata": {},
   "outputs": [],
   "source": [
    "# define true positive/negative and false positive/negative\n",
    "TP = confusion[1,1]\n",
    "TN = confusion[0,0]\n",
    "FP = confusion[0,1]\n",
    "FN = confusion[1,0]"
   ]
  },
  {
   "cell_type": "code",
   "execution_count": 70,
   "id": "31056509",
   "metadata": {},
   "outputs": [
    {
     "name": "stdout",
     "output_type": "stream",
     "text": [
      "Sensitivity: 0.7424892703862661\n"
     ]
    }
   ],
   "source": [
    "# calculate Sensitivity\n",
    "print('Sensitivity:', TP/float(TP+FN))"
   ]
  },
  {
   "cell_type": "code",
   "execution_count": 71,
   "id": "42428961",
   "metadata": {},
   "outputs": [
    {
     "name": "stdout",
     "output_type": "stream",
     "text": [
      "Specificity: 0.8406169665809768\n"
     ]
    }
   ],
   "source": [
    "#calculate Specificity\n",
    "print('Specificity:', TN/float(TN+FP))"
   ]
  },
  {
   "cell_type": "code",
   "execution_count": 72,
   "id": "de59b956",
   "metadata": {},
   "outputs": [],
   "source": [
    "# plot ROC curve to show tradeoff between TPR and FPR\n",
    "def draw_roc(actual, prob):\n",
    "    fpr,tpr,thresholds = metrics.roc_curve(actual, prob, drop_intermediate = False) # drop_intermediate =False so it returns thresholds even where TPR and FPR have same values\n",
    "    auc_score = metrics.roc_auc_score(actual,prob) # area under the curve\n",
    "    \n",
    "    plt.figure(figsize = [5,5])\n",
    "    plt.plot(fpr,tpr,label = 'ROC Curve (area = %0.2f)'%auc_score)\n",
    "    plt.plot([0,1],[0,1],'k--')            # plot random classifier for reference\n",
    "    plt.xlim([0.0, 1.0])\n",
    "    plt.ylim([0.0, 1.05])\n",
    "    plt.xlabel('False Positive Rate/ [1 - Specificity]')\n",
    "    plt.ylabel('True Positive Rate/ Sensitivity')\n",
    "    plt.title('Receiver Operating Characteristic')\n",
    "    plt.legend(loc = \"lower right\")\n",
    "    plt.show()\n",
    "    \n",
    "    return None"
   ]
  },
  {
   "cell_type": "code",
   "execution_count": 73,
   "id": "77b67801",
   "metadata": {},
   "outputs": [],
   "source": [
    "# calculate FPR, TPR and thresholds using actual converted values and predicted probabilities\n",
    "fpr, tpr, thresholds = metrics.roc_curve(y_train_pred_final['Survived'], y_train_pred_final['Survived_probability'], \n",
    "                                         drop_intermediate = False)"
   ]
  },
  {
   "cell_type": "code",
   "execution_count": 74,
   "id": "2f876358",
   "metadata": {},
   "outputs": [
    {
     "data": {
      "image/png": "[encoded data removed]",
      "text/plain": [
       "<Figure size 500x500 with 1 Axes>"
      ]
     },
     "metadata": {},
     "output_type": "display_data"
    }
   ],
   "source": [
    "draw_roc(y_train_pred_final['Survived'], y_train_pred_final['Survived_probability'])"
   ]
  },
  {
   "cell_type": "code",
   "execution_count": 75,
   "id": "24c03d06",
   "metadata": {},
   "outputs": [
    {
     "data": {
      "text/plain": [
       "0.7361702127659574"
      ]
     },
     "execution_count": 75,
     "metadata": {},
     "output_type": "execute_result"
    }
   ],
   "source": [
    "# Precision indicates the accuracy of the positive predictions\n",
    "precision_score(y_train_pred_final['Survived'], y_train_pred_final['Survival_pred'])"
   ]
  },
  {
   "cell_type": "code",
   "execution_count": 76,
   "id": "3ece59a1",
   "metadata": {},
   "outputs": [
    {
     "data": {
      "text/plain": [
       "0.7424892703862661"
      ]
     },
     "execution_count": 76,
     "metadata": {},
     "output_type": "execute_result"
    }
   ],
   "source": [
    "# Recall measures how many of the actual positive cases were correctly predicted\n",
    "recall_score(y_train_pred_final['Survived'], y_train_pred_final['Survival_pred'])"
   ]
  },
  {
   "cell_type": "code",
   "execution_count": 77,
   "id": "0b6cd67b",
   "metadata": {},
   "outputs": [],
   "source": [
    "# Apply scaler() to all the columns except the binary ones and 'dummy' variables, scaling ensures they contribute equally to the model\n",
    "X_test[['Pclass', 'SibSp', 'Parch' ]] = scaler.transform(X_test[['Pclass', 'SibSp', 'Parch']])"
   ]
  },
  {
   "cell_type": "code",
   "execution_count": 78,
   "id": "61bc7bcf",
   "metadata": {},
   "outputs": [],
   "source": [
    "# match columns\n",
    "X_test = X_test[col]"
   ]
  },
  {
   "cell_type": "code",
   "execution_count": 79,
   "id": "4f117a20",
   "metadata": {},
   "outputs": [
    {
     "data": {
      "text/html": [
       "<div>\n",
       "<style scoped>\n",
       "    .dataframe tbody tr th:only-of-type {\n",
       "        vertical-align: middle;\n",
       "    }\n",
       "\n",
       "    .dataframe tbody tr th {\n",
       "        vertical-align: top;\n",
       "    }\n",
       "\n",
       "    .dataframe thead th {\n",
       "        text-align: right;\n",
       "    }\n",
       "</style>\n",
       "<table border=\"1\" class=\"dataframe\">\n",
       "  <thead>\n",
       "    <tr style=\"text-align: right;\">\n",
       "      <th></th>\n",
       "      <th>Pclass</th>\n",
       "      <th>Sex</th>\n",
       "      <th>SibSp</th>\n",
       "      <th>Age_Teen</th>\n",
       "      <th>Age_Adult</th>\n",
       "      <th>Age_Senior</th>\n",
       "      <th>Fare_Medium</th>\n",
       "    </tr>\n",
       "  </thead>\n",
       "  <tbody>\n",
       "    <tr>\n",
       "      <th>639</th>\n",
       "      <td>0.844978</td>\n",
       "      <td>0</td>\n",
       "      <td>0.422894</td>\n",
       "      <td>0</td>\n",
       "      <td>1</td>\n",
       "      <td>0</td>\n",
       "      <td>0</td>\n",
       "    </tr>\n",
       "    <tr>\n",
       "      <th>147</th>\n",
       "      <td>0.844978</td>\n",
       "      <td>1</td>\n",
       "      <td>1.317589</td>\n",
       "      <td>0</td>\n",
       "      <td>0</td>\n",
       "      <td>0</td>\n",
       "      <td>0</td>\n",
       "    </tr>\n",
       "    <tr>\n",
       "      <th>278</th>\n",
       "      <td>0.844978</td>\n",
       "      <td>0</td>\n",
       "      <td>3.106978</td>\n",
       "      <td>0</td>\n",
       "      <td>0</td>\n",
       "      <td>0</td>\n",
       "      <td>0</td>\n",
       "    </tr>\n",
       "    <tr>\n",
       "      <th>484</th>\n",
       "      <td>-1.533195</td>\n",
       "      <td>0</td>\n",
       "      <td>0.422894</td>\n",
       "      <td>0</td>\n",
       "      <td>1</td>\n",
       "      <td>0</td>\n",
       "      <td>1</td>\n",
       "    </tr>\n",
       "    <tr>\n",
       "      <th>770</th>\n",
       "      <td>0.844978</td>\n",
       "      <td>0</td>\n",
       "      <td>-0.471800</td>\n",
       "      <td>0</td>\n",
       "      <td>1</td>\n",
       "      <td>0</td>\n",
       "      <td>0</td>\n",
       "    </tr>\n",
       "  </tbody>\n",
       "</table>\n",
       "</div>"
      ],
      "text/plain": [
       "       Pclass  Sex     SibSp  Age_Teen  Age_Adult  Age_Senior  Fare_Medium\n",
       "639  0.844978    0  0.422894         0          1           0            0\n",
       "147  0.844978    1  1.317589         0          0           0            0\n",
       "278  0.844978    0  3.106978         0          0           0            0\n",
       "484 -1.533195    0  0.422894         0          1           0            1\n",
       "770  0.844978    0 -0.471800         0          1           0            0"
      ]
     },
     "execution_count": 79,
     "metadata": {},
     "output_type": "execute_result"
    }
   ],
   "source": [
    "X_test.head()"
   ]
  },
  {
   "cell_type": "code",
   "execution_count": 80,
   "id": "6ef644e3",
   "metadata": {},
   "outputs": [],
   "source": [
    "# add constant\n",
    "X_test_sm = sm.add_constant(X_test)"
   ]
  },
  {
   "cell_type": "code",
   "execution_count": 81,
   "id": "ddc6ca15",
   "metadata": {},
   "outputs": [],
   "source": [
    "y_test_pred = result.predict(X_test_sm)"
   ]
  },
  {
   "cell_type": "code",
   "execution_count": 82,
   "id": "d737e392",
   "metadata": {},
   "outputs": [
    {
     "data": {
      "text/html": [
       "<div>\n",
       "<style scoped>\n",
       "    .dataframe tbody tr th:only-of-type {\n",
       "        vertical-align: middle;\n",
       "    }\n",
       "\n",
       "    .dataframe tbody tr th {\n",
       "        vertical-align: top;\n",
       "    }\n",
       "\n",
       "    .dataframe thead th {\n",
       "        text-align: right;\n",
       "    }\n",
       "</style>\n",
       "<table border=\"1\" class=\"dataframe\">\n",
       "  <thead>\n",
       "    <tr style=\"text-align: right;\">\n",
       "      <th></th>\n",
       "      <th>0</th>\n",
       "    </tr>\n",
       "  </thead>\n",
       "  <tbody>\n",
       "    <tr>\n",
       "      <th>639</th>\n",
       "      <td>0.054387</td>\n",
       "    </tr>\n",
       "    <tr>\n",
       "      <th>147</th>\n",
       "      <td>0.845321</td>\n",
       "    </tr>\n",
       "    <tr>\n",
       "      <th>278</th>\n",
       "      <td>0.117529</td>\n",
       "    </tr>\n",
       "    <tr>\n",
       "      <th>484</th>\n",
       "      <td>0.563181</td>\n",
       "    </tr>\n",
       "    <tr>\n",
       "      <th>770</th>\n",
       "      <td>0.084496</td>\n",
       "    </tr>\n",
       "    <tr>\n",
       "      <th>874</th>\n",
       "      <td>0.718502</td>\n",
       "    </tr>\n",
       "    <tr>\n",
       "      <th>157</th>\n",
       "      <td>0.084496</td>\n",
       "    </tr>\n",
       "    <tr>\n",
       "      <th>660</th>\n",
       "      <td>0.217513</td>\n",
       "    </tr>\n",
       "    <tr>\n",
       "      <th>792</th>\n",
       "      <td>0.088156</td>\n",
       "    </tr>\n",
       "    <tr>\n",
       "      <th>533</th>\n",
       "      <td>0.588415</td>\n",
       "    </tr>\n",
       "  </tbody>\n",
       "</table>\n",
       "</div>"
      ],
      "text/plain": [
       "            0\n",
       "639  0.054387\n",
       "147  0.845321\n",
       "278  0.117529\n",
       "484  0.563181\n",
       "770  0.084496\n",
       "874  0.718502\n",
       "157  0.084496\n",
       "660  0.217513\n",
       "792  0.088156\n",
       "533  0.588415"
      ]
     },
     "execution_count": 82,
     "metadata": {},
     "output_type": "execute_result"
    }
   ],
   "source": [
    "# convert to DataFrame\n",
    "y_pred_df = pd.DataFrame(y_test_pred) \n",
    "y_pred_df[:10]"
   ]
  },
  {
   "cell_type": "code",
   "execution_count": 83,
   "id": "a6dfcd21",
   "metadata": {},
   "outputs": [],
   "source": [
    "# convert test into DataFrame\n",
    "y_test_df = pd.DataFrame(y_test)            \n",
    "y_test_df['Index_ID'] = y_test_df.index"
   ]
  },
  {
   "cell_type": "code",
   "execution_count": 84,
   "id": "dc981936",
   "metadata": {},
   "outputs": [],
   "source": [
    "# reset index \n",
    "y_pred_df.reset_index(drop= True, inplace =True)\n",
    "y_test_df.reset_index(drop= True, inplace =True)"
   ]
  },
  {
   "cell_type": "code",
   "execution_count": 85,
   "id": "3ce0622f",
   "metadata": {},
   "outputs": [
    {
     "data": {
      "text/html": [
       "<div>\n",
       "<style scoped>\n",
       "    .dataframe tbody tr th:only-of-type {\n",
       "        vertical-align: middle;\n",
       "    }\n",
       "\n",
       "    .dataframe tbody tr th {\n",
       "        vertical-align: top;\n",
       "    }\n",
       "\n",
       "    .dataframe thead th {\n",
       "        text-align: right;\n",
       "    }\n",
       "</style>\n",
       "<table border=\"1\" class=\"dataframe\">\n",
       "  <thead>\n",
       "    <tr style=\"text-align: right;\">\n",
       "      <th></th>\n",
       "      <th>Survived</th>\n",
       "      <th>Index_ID</th>\n",
       "      <th>0</th>\n",
       "    </tr>\n",
       "  </thead>\n",
       "  <tbody>\n",
       "    <tr>\n",
       "      <th>0</th>\n",
       "      <td>0</td>\n",
       "      <td>639</td>\n",
       "      <td>0.054387</td>\n",
       "    </tr>\n",
       "    <tr>\n",
       "      <th>1</th>\n",
       "      <td>0</td>\n",
       "      <td>147</td>\n",
       "      <td>0.845321</td>\n",
       "    </tr>\n",
       "    <tr>\n",
       "      <th>2</th>\n",
       "      <td>0</td>\n",
       "      <td>278</td>\n",
       "      <td>0.117529</td>\n",
       "    </tr>\n",
       "    <tr>\n",
       "      <th>3</th>\n",
       "      <td>1</td>\n",
       "      <td>484</td>\n",
       "      <td>0.563181</td>\n",
       "    </tr>\n",
       "    <tr>\n",
       "      <th>4</th>\n",
       "      <td>0</td>\n",
       "      <td>770</td>\n",
       "      <td>0.084496</td>\n",
       "    </tr>\n",
       "  </tbody>\n",
       "</table>\n",
       "</div>"
      ],
      "text/plain": [
       "   Survived  Index_ID         0\n",
       "0         0       639  0.054387\n",
       "1         0       147  0.845321\n",
       "2         0       278  0.117529\n",
       "3         1       484  0.563181\n",
       "4         0       770  0.084496"
      ]
     },
     "execution_count": 85,
     "metadata": {},
     "output_type": "execute_result"
    }
   ],
   "source": [
    "# append above test and predicted df\n",
    "y_pred_final= pd.concat([y_test_df, y_pred_df], axis =1)\n",
    "y_pred_final.head()"
   ]
  },
  {
   "cell_type": "code",
   "execution_count": 86,
   "id": "17dbca44",
   "metadata": {},
   "outputs": [
    {
     "data": {
      "text/html": [
       "<div>\n",
       "<style scoped>\n",
       "    .dataframe tbody tr th:only-of-type {\n",
       "        vertical-align: middle;\n",
       "    }\n",
       "\n",
       "    .dataframe tbody tr th {\n",
       "        vertical-align: top;\n",
       "    }\n",
       "\n",
       "    .dataframe thead th {\n",
       "        text-align: right;\n",
       "    }\n",
       "</style>\n",
       "<table border=\"1\" class=\"dataframe\">\n",
       "  <thead>\n",
       "    <tr style=\"text-align: right;\">\n",
       "      <th></th>\n",
       "      <th>Index_ID</th>\n",
       "      <th>Survived</th>\n",
       "      <th>Survival_probability</th>\n",
       "    </tr>\n",
       "  </thead>\n",
       "  <tbody>\n",
       "    <tr>\n",
       "      <th>0</th>\n",
       "      <td>639</td>\n",
       "      <td>0</td>\n",
       "      <td>0.054387</td>\n",
       "    </tr>\n",
       "    <tr>\n",
       "      <th>1</th>\n",
       "      <td>147</td>\n",
       "      <td>0</td>\n",
       "      <td>0.845321</td>\n",
       "    </tr>\n",
       "    <tr>\n",
       "      <th>2</th>\n",
       "      <td>278</td>\n",
       "      <td>0</td>\n",
       "      <td>0.117529</td>\n",
       "    </tr>\n",
       "    <tr>\n",
       "      <th>3</th>\n",
       "      <td>484</td>\n",
       "      <td>1</td>\n",
       "      <td>0.563181</td>\n",
       "    </tr>\n",
       "    <tr>\n",
       "      <th>4</th>\n",
       "      <td>770</td>\n",
       "      <td>0</td>\n",
       "      <td>0.084496</td>\n",
       "    </tr>\n",
       "  </tbody>\n",
       "</table>\n",
       "</div>"
      ],
      "text/plain": [
       "   Index_ID  Survived  Survival_probability\n",
       "0       639         0              0.054387\n",
       "1       147         0              0.845321\n",
       "2       278         0              0.117529\n",
       "3       484         1              0.563181\n",
       "4       770         0              0.084496"
      ]
     },
     "execution_count": 86,
     "metadata": {},
     "output_type": "execute_result"
    }
   ],
   "source": [
    "# rename the column title\n",
    "y_pred_final = y_pred_final.rename(columns = {0 : 'Survival_probability'})\n",
    "\n",
    "# rearrange the columns\n",
    "y_pred_final = y_pred_final.reindex(['Index_ID','Survived','Survival_probability'], axis = 1)\n",
    "y_pred_final.head()"
   ]
  },
  {
   "cell_type": "code",
   "execution_count": 87,
   "id": "569c9a21",
   "metadata": {},
   "outputs": [
    {
     "data": {
      "text/html": [
       "<div>\n",
       "<style scoped>\n",
       "    .dataframe tbody tr th:only-of-type {\n",
       "        vertical-align: middle;\n",
       "    }\n",
       "\n",
       "    .dataframe tbody tr th {\n",
       "        vertical-align: top;\n",
       "    }\n",
       "\n",
       "    .dataframe thead th {\n",
       "        text-align: right;\n",
       "    }\n",
       "</style>\n",
       "<table border=\"1\" class=\"dataframe\">\n",
       "  <thead>\n",
       "    <tr style=\"text-align: right;\">\n",
       "      <th></th>\n",
       "      <th>Index_ID</th>\n",
       "      <th>Survived</th>\n",
       "      <th>Survival_probability</th>\n",
       "      <th>Survival_predicted</th>\n",
       "    </tr>\n",
       "  </thead>\n",
       "  <tbody>\n",
       "    <tr>\n",
       "      <th>0</th>\n",
       "      <td>639</td>\n",
       "      <td>0</td>\n",
       "      <td>0.054387</td>\n",
       "      <td>0</td>\n",
       "    </tr>\n",
       "    <tr>\n",
       "      <th>1</th>\n",
       "      <td>147</td>\n",
       "      <td>0</td>\n",
       "      <td>0.845321</td>\n",
       "      <td>1</td>\n",
       "    </tr>\n",
       "    <tr>\n",
       "      <th>2</th>\n",
       "      <td>278</td>\n",
       "      <td>0</td>\n",
       "      <td>0.117529</td>\n",
       "      <td>0</td>\n",
       "    </tr>\n",
       "    <tr>\n",
       "      <th>3</th>\n",
       "      <td>484</td>\n",
       "      <td>1</td>\n",
       "      <td>0.563181</td>\n",
       "      <td>1</td>\n",
       "    </tr>\n",
       "    <tr>\n",
       "      <th>4</th>\n",
       "      <td>770</td>\n",
       "      <td>0</td>\n",
       "      <td>0.084496</td>\n",
       "      <td>0</td>\n",
       "    </tr>\n",
       "  </tbody>\n",
       "</table>\n",
       "</div>"
      ],
      "text/plain": [
       "   Index_ID  Survived  Survival_probability  Survival_predicted\n",
       "0       639         0              0.054387                   0\n",
       "1       147         0              0.845321                   1\n",
       "2       278         0              0.117529                   0\n",
       "3       484         1              0.563181                   1\n",
       "4       770         0              0.084496                   0"
      ]
     },
     "execution_count": 87,
     "metadata": {},
     "output_type": "execute_result"
    }
   ],
   "source": [
    "# create new column and cutoff at 0.45\n",
    "y_pred_final['Survival_predicted'] = y_pred_final.Survival_probability.map(lambda x: 1 if x > 0.45 else 0)\n",
    "\n",
    "y_pred_final.head()"
   ]
  },
  {
   "cell_type": "code",
   "execution_count": 88,
   "id": "e383974b",
   "metadata": {},
   "outputs": [
    {
     "name": "stdout",
     "output_type": "stream",
     "text": [
      "Accuracy score: 0.8089887640449438\n"
     ]
    }
   ],
   "source": [
    "# check accuracy score\n",
    "print('Accuracy score:', metrics.accuracy_score(y_pred_final['Survived'], y_pred_final['Survival_predicted']))"
   ]
  },
  {
   "cell_type": "code",
   "execution_count": 89,
   "id": "db9e523f",
   "metadata": {},
   "outputs": [
    {
     "name": "stdout",
     "output_type": "stream",
     "text": [
      "F1 score: 0.7559808612440191\n"
     ]
    }
   ],
   "source": [
    "# Calculate F1 score\n",
    "f1 = f1_score(y_pred_final['Survived'], y_pred_final['Survival_predicted'])\n",
    "print('F1 score:', f1)"
   ]
  },
  {
   "cell_type": "code",
   "execution_count": 90,
   "id": "84710f4b",
   "metadata": {},
   "outputs": [
    {
     "data": {
      "text/plain": [
       "0.7745098039215687"
      ]
     },
     "execution_count": 90,
     "metadata": {},
     "output_type": "execute_result"
    }
   ],
   "source": [
    "precision_score(y_pred_final['Survived'], y_pred_final['Survival_predicted'])"
   ]
  },
  {
   "cell_type": "code",
   "execution_count": 91,
   "id": "9fb91e37",
   "metadata": {},
   "outputs": [
    {
     "data": {
      "text/html": [
       "<div>\n",
       "<style scoped>\n",
       "    .dataframe tbody tr th:only-of-type {\n",
       "        vertical-align: middle;\n",
       "    }\n",
       "\n",
       "    .dataframe tbody tr th {\n",
       "        vertical-align: top;\n",
       "    }\n",
       "\n",
       "    .dataframe thead th {\n",
       "        text-align: right;\n",
       "    }\n",
       "</style>\n",
       "<table border=\"1\" class=\"dataframe\">\n",
       "  <thead>\n",
       "    <tr style=\"text-align: right;\">\n",
       "      <th></th>\n",
       "      <th>Index_ID</th>\n",
       "      <th>Survived</th>\n",
       "      <th>Survival_probability</th>\n",
       "      <th>Survival_predicted</th>\n",
       "      <th>PassengerId</th>\n",
       "      <th>Name</th>\n",
       "      <th>Sex</th>\n",
       "      <th>Pclass</th>\n",
       "    </tr>\n",
       "  </thead>\n",
       "  <tbody>\n",
       "    <tr>\n",
       "      <th>0</th>\n",
       "      <td>639</td>\n",
       "      <td>0</td>\n",
       "      <td>0.054387</td>\n",
       "      <td>0</td>\n",
       "      <td>640</td>\n",
       "      <td>Thorneycroft, Mr. Percival</td>\n",
       "      <td>0</td>\n",
       "      <td>3</td>\n",
       "    </tr>\n",
       "    <tr>\n",
       "      <th>1</th>\n",
       "      <td>147</td>\n",
       "      <td>0</td>\n",
       "      <td>0.845321</td>\n",
       "      <td>1</td>\n",
       "      <td>148</td>\n",
       "      <td>Ford, Miss. Robina Maggie \"Ruby\"</td>\n",
       "      <td>1</td>\n",
       "      <td>3</td>\n",
       "    </tr>\n",
       "    <tr>\n",
       "      <th>2</th>\n",
       "      <td>278</td>\n",
       "      <td>0</td>\n",
       "      <td>0.117529</td>\n",
       "      <td>0</td>\n",
       "      <td>279</td>\n",
       "      <td>Rice, Master. Eric</td>\n",
       "      <td>0</td>\n",
       "      <td>3</td>\n",
       "    </tr>\n",
       "    <tr>\n",
       "      <th>3</th>\n",
       "      <td>484</td>\n",
       "      <td>1</td>\n",
       "      <td>0.563181</td>\n",
       "      <td>1</td>\n",
       "      <td>485</td>\n",
       "      <td>Bishop, Mr. Dickinson H</td>\n",
       "      <td>0</td>\n",
       "      <td>1</td>\n",
       "    </tr>\n",
       "    <tr>\n",
       "      <th>4</th>\n",
       "      <td>770</td>\n",
       "      <td>0</td>\n",
       "      <td>0.084496</td>\n",
       "      <td>0</td>\n",
       "      <td>771</td>\n",
       "      <td>Lievens, Mr. Rene Aime</td>\n",
       "      <td>0</td>\n",
       "      <td>3</td>\n",
       "    </tr>\n",
       "  </tbody>\n",
       "</table>\n",
       "</div>"
      ],
      "text/plain": [
       "   Index_ID  Survived  Survival_probability  Survival_predicted  PassengerId  \\\n",
       "0       639         0              0.054387                   0          640   \n",
       "1       147         0              0.845321                   1          148   \n",
       "2       278         0              0.117529                   0          279   \n",
       "3       484         1              0.563181                   1          485   \n",
       "4       770         0              0.084496                   0          771   \n",
       "\n",
       "                               Name  Sex  Pclass  \n",
       "0        Thorneycroft, Mr. Percival    0       3  \n",
       "1  Ford, Miss. Robina Maggie \"Ruby\"    1       3  \n",
       "2                Rice, Master. Eric    0       3  \n",
       "3           Bishop, Mr. Dickinson H    0       1  \n",
       "4            Lievens, Mr. Rene Aime    0       3  "
      ]
     },
     "execution_count": 91,
     "metadata": {},
     "output_type": "execute_result"
    }
   ],
   "source": [
    "passenger_info = data.loc[y_pred_final['Index_ID'], ['PassengerId', 'Name','Sex','Pclass']]\n",
    "\n",
    "# Reset the index to match y_pred_final\n",
    "passenger_info.reset_index(drop=True, inplace=True)\n",
    "\n",
    "# merge passenger info with y_pred_final\n",
    "y_pred_final_with_info = pd.concat([y_pred_final, passenger_info], axis=1)\n",
    "\n",
    "y_pred_final_with_info.head(5)"
   ]
  },
  {
   "cell_type": "markdown",
   "id": "b9421c92",
   "metadata": {},
   "source": [
    "### Model Summary\n",
    "`Train Set`\n",
    "-  Accuracy: 0.80\n",
    "-  Sensitivity (Recall): 0.74\n",
    "-  Specificity: 0.84\n",
    "-  ROC-AUC: 0.86\n",
    "\n",
    "    \n",
    "`Test Set`\n",
    "-  Accuracy: 0.80\n",
    "-  F1-Score: 0.75\n",
    "-  Precision: 0.77</br>\n",
    "</br>\n",
    "-  The model achieves consistent accuracy on both the train and test sets, indicating it generalizes well without significant overfitting.\n",
    "-  Precision (0.77) among the predicted positives, 77% are true positives, which is a solid performance in identifying relevant cases.\n",
    "-  With F1-Score (0.75), it balances precision and recall, suggesting that the model maintains reasonable trade-offs without excessively favoring one metric over the other."
   ]
  },
  {
   "cell_type": "markdown",
   "id": "53db3728",
   "metadata": {},
   "source": []
  }
 ],
 "metadata": {
  "kernelspec": {
   "display_name": "Python 3 (ipykernel)",
   "language": "python",
   "name": "python3"
  },
  "language_info": {
   "codemirror_mode": {
    "name": "ipython",
    "version": 3
   },
   "file_extension": ".py",
   "mimetype": "text/x-python",
   "name": "python",
   "nbconvert_exporter": "python",
   "pygments_lexer": "ipython3",
   "version": "3.11.7"
  }
 },
 "nbformat": 4,
 "nbformat_minor": 5
}
